{
 "cells": [
  {
   "cell_type": "code",
   "execution_count": 1,
   "metadata": {},
   "outputs": [],
   "source": [
    "import pandas as pd\n",
    "import string\n",
    "import unicodedata\n",
    "import os\n",
    "import geopandas as gpd"
   ]
  },
  {
   "cell_type": "code",
   "execution_count": 2,
   "metadata": {},
   "outputs": [],
   "source": [
    "def unicodeToAscii(s):\n",
    "        return ''.join(\n",
    "            c for c in unicodedata.normalize('NFD', s)\n",
    "            if unicodedata.category(c) != 'Mn'\n",
    "            and c in ALL_LET\n",
    "        )\n",
    "ALL_LET = string.ascii_letters + \" .,;'\"\n",
    "N_HIDDEN = 128\n",
    "N_LET = len(ALL_LET)\n",
    "\n",
    "def clean_name(name, f_name = False):\n",
    "    if f_name:\n",
    "        name = name.split(\" \")[0]\n",
    "    name = name.lower()\n",
    "    name = unicodeToAscii(name)\n",
    "    return name"
   ]
  },
  {
   "cell_type": "markdown",
   "metadata": {},
   "source": [
    "## Cleaning Parlimentary Elections Elections"
   ]
  },
  {
   "cell_type": "code",
   "execution_count": 17,
   "metadata": {},
   "outputs": [],
   "source": [
    "def clean_milletvekili(path):\n",
    "    city = (path.split(\"_\")[-1]).split(\".\")[0]\n",
    "    df = pd.read_excel(f\"Data/{path}\", skiprows = lambda x: x in [i for i in range(0, 9)])\n",
    "    df.rename(columns = {\n",
    "                       \"Unnamed: 0\": \"Variable\",\n",
    "                       \"Unnamed: 1\": \"Type\"\n",
    "                        }, inplace = True)\n",
    "    df = df[df.Type != \"C\"]\n",
    "    df.Type = df.Type.str.replace(\"A\", \"Total Votes\")\n",
    "    df.Type = df.Type.str.replace(\"B\", \"Percent Votes\")\n",
    "    df = df.T\n",
    "    df.columns = df.loc[\"Variable\"]\n",
    "    df = df.drop(\"Variable\")\n",
    "    columns = df.columns\n",
    "    types = list(df.loc[\"Type\"])\n",
    "    types = [\"\" if str(i) == \"nan\" else i for i in types]\n",
    "    columns = [str(columns[i]) + \"_\" + str(types[i]) for i in range(0, len(columns))]\n",
    "    columns = [clean_name(i.replace(\"ı\", \"i\")) for i in columns]\n",
    "    columns = [i.replace(\"  \", \"\") for i in columns]\n",
    "    columns = [i.replace(\" \", \"_\") for i in columns]\n",
    "    replace = [\"registered_voter\", \"turnout\", \"percent_turnout\", \"valid_vote\", \"num_milletvekili\"]\n",
    "    for i in range(0, len(replace)):\n",
    "        columns[i] = replace[i]\n",
    "    df.columns = columns\n",
    "    df = df.drop(\"Type\")\n",
    "    df[\"city\"] = [city] * len(df)\n",
    "    df = df.reset_index()\n",
    "    df.rename(columns = {'index':'year'}, inplace = True)\n",
    "    if 'nan' in df.columns:\n",
    "        df = df.drop(columns = ['nan'])\n",
    "    return df"
   ]
  },
  {
   "cell_type": "code",
   "execution_count": 18,
   "metadata": {},
   "outputs": [],
   "source": [
    "milletvekili_raw = [i for i in os.listdir(\"Data/\") if \"milletvekili_\" in i ]\n",
    "milletvekili_cleaned = [clean_milletvekili(i) for i in milletvekili_raw]"
   ]
  },
  {
   "cell_type": "code",
   "execution_count": 19,
   "metadata": {},
   "outputs": [],
   "source": [
    "df_final = pd.concat(milletvekili_cleaned, ignore_index = True)\n",
    "df_final.year = df_final.year.replace('1 Kasım 2015', '2015_1')\n",
    "df_final.year = df_final.year.replace('7 Haziran 2015', '2015_2')\n",
    "df_final = df_final[df_final.year != 'Unnamed: 13']\n",
    "df_final.to_csv('clean_data/turkish_parlimentary.csv', index = False)"
   ]
  },
  {
   "cell_type": "markdown",
   "metadata": {},
   "source": [
    "## Cleaning 2018 & 2015 Detailed Parlimentary Election Data"
   ]
  },
  {
   "cell_type": "code",
   "execution_count": 20,
   "metadata": {},
   "outputs": [],
   "source": [
    "def clean_detailed_milletvekili(path):\n",
    "    df = pd.read_excel(f'Data/{path}', skiprows = lambda x: x in [i for i in range(0, 7)])\n",
    "    year = path.split('_')[0]\n",
    "    if year == '2018':\n",
    "        columns = ['election_city', 'election_source', 'registered_voters', 'turnout', 'percent_turnout',\n",
    "                     'valid_vote', 'AKP', 'MHP', 'huda', 'vatan', 'HDP', 'CHP', 'saadet', 'iyi', 'independent']\n",
    "        columns = [f'2018_{i}' for i in columns[1:]]\n",
    "    elif 'kasim' in year:\n",
    "\n",
    "        columns = ['election_city', 'election_source', 'registered_voters', 'turnout', 'percent_turnout',\n",
    "                     'valid_vote', 'millet', 'vatan', 'CHP', 'hak', 'saadet', 'dsp', 'dp', 'btp',\n",
    "                     'MHP', 'hkp', 'ldp', 'HDP', 'bbp', 'AKP', 'kp', 'dyp', 'indep']\n",
    "        columns = [f'2015-1_{i}' for i in columns[1:]]\n",
    "    else:\n",
    "        columns = ['election_city', 'election_source', 'registered_voters', 'turnout', 'percent_turnout',\n",
    "                     'valid_vote', 'dyp', 'anadolu', 'hak', 'kp', 'millet', 'hap', 'mep', 'turk', 'hkp', 'ldp',\n",
    "                     'MHP', 'HDP', 'saadet', 'CHP', 'AKP', 'DSP', 'yurt', 'DP', 'vatan', 'BTP', 'indep']\n",
    "        columns = [f'2015-2_{i}' for i in columns[1:]]\n",
    "    df.columns = ['election_city'] + columns\n",
    "    df = df[(df[df.columns[1]] == 'Ülke geneli') | (df[df.columns[1]] == 'Seçim çevresi')]\n",
    "    df.drop(columns = [df.columns[1]], inplace = True)\n",
    "    return df"
   ]
  },
  {
   "cell_type": "code",
   "execution_count": 21,
   "metadata": {},
   "outputs": [],
   "source": [
    "paths = ['2018_milletvekili.xlsx', '2015-1kasim_milletvekili.xlsx', '2015-7haziran_milletvekili.xlsx']\n",
    "milletvekili_detailed_cleaned = [clean_detailed_milletvekili(i) for i in paths]"
   ]
  },
  {
   "cell_type": "code",
   "execution_count": 22,
   "metadata": {},
   "outputs": [],
   "source": [
    "df_final = milletvekili_detailed_cleaned[0].merge(milletvekili_detailed_cleaned[1], on = 'election_city', how = 'left')\n",
    "df_final = df_final.merge(milletvekili_detailed_cleaned[2], on = 'election_city', how = 'left')\n",
    "df_final['election_city'] = df_final['election_city'].apply(lambda row: clean_name(row))\n",
    "df_final.to_csv('clean_data/milletvekili_detailed.csv', index = 'False')"
   ]
  },
  {
   "cell_type": "markdown",
   "metadata": {},
   "source": [
    "## Cleaning Municipality Election Data"
   ]
  },
  {
   "cell_type": "code",
   "execution_count": 38,
   "metadata": {},
   "outputs": [],
   "source": [
    "def fill_col_names(cols, year):\n",
    "    cols_final = [\"il\"]\n",
    "    for col in cols[1:]:\n",
    "        index = cols.index(col)\n",
    "        if \"Unnamed\" in col:\n",
    "            cols_final.append(clean_name(cols[index - 1].replace(\"ı\", \"i\")) + \"_\" + \"percent\")\n",
    "            cols_final[index - 1] = cols[index - 1] + \"_\" + \"vote\"\n",
    "        else:\n",
    "            if col != \"il\":\n",
    "                cols_final.append(clean_name(col.replace(\"ı\", \"i\")))\n",
    "    return cols_final"
   ]
  },
  {
   "cell_type": "code",
   "execution_count": 135,
   "metadata": {},
   "outputs": [],
   "source": [
    "def clean_municipality_elec(path):\n",
    "    df = pd.read_excel(f'Data/{path}', skiprows = lambda x: x in [i for i in range(0, 7)])\n",
    "    year = path.split(\"_\")[0]\n",
    "    df.columns = fill_col_names(list(df.columns), year)\n",
    "    df = df.drop(0)\n",
    "    if \"belediye\" in df.columns:\n",
    "        df = df[df[\"belediye\"].isna()]\n",
    "        df.drop(columns = [\"belediye\", \"sandik sayisi\"], inplace = True)\n",
    "    else:\n",
    "        df = df[df[\"ilce\"].isna()]\n",
    "        df.drop(columns = [\"ilce\", \"baskanlik sayisi\", \"sandik sayisi\"], inplace = True)\n",
    "    df = df[df.il.notna()]\n",
    "    df.il = df.il.str.replace(\"ı\", \"i\")\n",
    "    df.il = df.il.apply(lambda row: clean_name(row))\n",
    "    df = df[df.il.str.len() <= 30]\n",
    "    df.il = df.il.str.replace(\" \", \"\")\n",
    "    df.rename(columns = {\n",
    "    \"kayitli secmen sayisi\": 'registered_voters', \n",
    "    \"oy kullanan secmen sayisi\": 'turnout',\n",
    "    \"oy kullanan secmen sayisi ve orani \": 'turnout',\n",
    "    \"secime katilma orani \": 'percent_turnout',\n",
    "    \"gecerli oy sayisi\": \"valid_vote\",\n",
    "    \"il\": \"city\"\n",
    "                        }, inplace = True)\n",
    "    df[\"year\"] = [year]*len(df)\n",
    "    try:\n",
    "        df = df.drop(30)\n",
    "        df = df.drop(31)\n",
    "        return df\n",
    "    except:\n",
    "        return df\n",
    "        "
   ]
  },
  {
   "cell_type": "code",
   "execution_count": 136,
   "metadata": {},
   "outputs": [],
   "source": [
    "municipality_paths = [i for i in os.listdir(\"Data/\") if \"BB\" in i ]\n",
    "municipality_paths_clean = [clean_municipality_elec(i) for i in municipality_paths]"
   ]
  },
  {
   "cell_type": "code",
   "execution_count": 143,
   "metadata": {},
   "outputs": [],
   "source": [
    "df_final = pd.concat(municipality_paths_clean, ignore_index = True)\n",
    "df_final = df_final[[\"city\", \"year\"] + [i for i in df_final.columns if i not in [\"city\", \"year\"]]]\n",
    "df_final.to_csv(\"clean_data/turkey_municipality.csv\", index = False)"
   ]
  },
  {
   "cell_type": "code",
   "execution_count": null,
   "metadata": {},
   "outputs": [],
   "source": []
  }
 ],
 "metadata": {
  "kernelspec": {
   "display_name": "Python 3",
   "language": "python",
   "name": "python3"
  },
  "language_info": {
   "codemirror_mode": {
    "name": "ipython",
    "version": 3
   },
   "file_extension": ".py",
   "mimetype": "text/x-python",
   "name": "python",
   "nbconvert_exporter": "python",
   "pygments_lexer": "ipython3",
   "version": "3.8.3"
  }
 },
 "nbformat": 4,
 "nbformat_minor": 4
}
