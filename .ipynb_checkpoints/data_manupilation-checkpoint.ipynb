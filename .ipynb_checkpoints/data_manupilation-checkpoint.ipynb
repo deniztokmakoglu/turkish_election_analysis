{
 "cells": [
  {
   "cell_type": "code",
   "execution_count": 87,
   "metadata": {},
   "outputs": [],
   "source": [
    "import pandas as pd"
   ]
  },
  {
   "cell_type": "code",
   "execution_count": 88,
   "metadata": {},
   "outputs": [],
   "source": [
    "municipality = pd.read_csv(\"clean_data/turkey_municipality.csv\")\n",
    "parlimentary = pd.read_csv(\"clean_data/turkish_parlimentary.csv\")\n",
    "parlimentary_d = pd.read_csv(\"clean_data/milletvekili_detailed.csv\")\n",
    "party_alignment = pd.read_excel(\"clean_data/party_alignment.xlsx\")\n",
    "events = pd.read_excel(\"data/turkish_catastrophic_event.xlsx\")"
   ]
  },
  {
   "cell_type": "code",
   "execution_count": 89,
   "metadata": {},
   "outputs": [],
   "source": [
    "parlimentary = parlimentary.sort_values(by = [\"year\", \"turnout\"], ascending = False)\n",
    "parlimentary = parlimentary.drop_duplicates(subset = [\"year\"], keep = \"first\")"
   ]
  },
  {
   "cell_type": "markdown",
   "metadata": {},
   "source": [
    "# Municipality"
   ]
  },
  {
   "cell_type": "code",
   "execution_count": 107,
   "metadata": {},
   "outputs": [],
   "source": [
    "municipality.drop(columns = ['prev_year',\n",
    "       'winner', \"prev_winner\", \"swing\"], inplace = True)\n",
    "municipality.city = municipality.city.str.replace(\"mersin\", \"icel\")\n",
    "municipality = municipality[(municipality.city != \"turkiye\") & (municipality.city != \"altkademebelediyesi\")]\n",
    "municipality[\"percent_turnout\"] = municipality[\"turnout\"] / municipality[\"registered_voters\"]"
   ]
  },
  {
   "cell_type": "code",
   "execution_count": 110,
   "metadata": {},
   "outputs": [],
   "source": [
    "def determine_winner(row):\n",
    "    row = row.dropna(axis=0, how='any')\n",
    "    row = row.drop([\"city\", \"year\", \"registered_voters\", \n",
    "                       \"turnout\", \"valid_vote\", \n",
    "                       \"percent_turnout\"])\n",
    "    row = row.astype(int)\n",
    "    winner = row.idxmax()\n",
    "    return winner"
   ]
  },
  {
   "cell_type": "code",
   "execution_count": 111,
   "metadata": {},
   "outputs": [],
   "source": [
    "years = list(municipality.year.unique())\n",
    "years = sorted(years, reverse = True)\n",
    "municipality[\"prev_year\"] = municipality.year.apply(lambda row: None if row == 1989 else years[years.index(row) + 1])"
   ]
  },
  {
   "cell_type": "code",
   "execution_count": 112,
   "metadata": {},
   "outputs": [],
   "source": [
    "municipality[\"winner\"] = municipality.apply(lambda row: determine_winner(row), axis = 1)\n",
    "municipality[\"winner\"] = municipality[\"winner\"].str.split(\"_\", expand = True)[0]"
   ]
  },
  {
   "cell_type": "code",
   "execution_count": 115,
   "metadata": {},
   "outputs": [],
   "source": [
    "municipality_results = municipality[[\"city\", \"year\", \"winner\"]].drop_duplicates()\n",
    "municipality_results.rename(columns = {\"winner\": \"prev_winner\", \"year\": \"prev_year\"}, inplace = True)\n",
    "municipality = municipality.merge(municipality_results, on = [\"city\", \"prev_year\"], how = \"left\")"
   ]
  },
  {
   "cell_type": "code",
   "execution_count": 116,
   "metadata": {},
   "outputs": [],
   "source": [
    "municipality[\"swing\"] = ((municipality[\"winner\"] != municipality[\"prev_winner\"]) & (municipality[\"prev_winner\"].notna())).astype(int)"
   ]
  },
  {
   "cell_type": "code",
   "execution_count": 117,
   "metadata": {},
   "outputs": [],
   "source": [
    "municipality.winner = municipality.winner.str.lower()\n",
    "municipality.prev_winner = municipality.prev_winner.str.lower()\n",
    "municipality.winner = municipality.winner.str.replace(\"ak parti\", \"akp\")\n",
    "municipality.prev_winner = municipality.prev_winner.str.replace(\"ak parti\", \"akp\")"
   ]
  },
  {
   "cell_type": "code",
   "execution_count": 118,
   "metadata": {},
   "outputs": [],
   "source": [
    "party_alignment.rename(columns = {\"party\": \"winner\"}, inplace = True)\n",
    "party_alignment.winner = party_alignment.winner.str.replace(\"ak parti\", \"akp\")\n",
    "municipality = municipality.merge(party_alignment, on = \"winner\", how = \"left\")"
   ]
  },
  {
   "cell_type": "code",
   "execution_count": 119,
   "metadata": {},
   "outputs": [],
   "source": [
    "party_alignment.columns = [\"prev_winner\", \"nat_prev\", \"right_wing_prev\", \"left_wing_prev\",\n",
    "                           \"political_islam_prev\", \"kurdish_prev\", \"liberal_prev\", \"socialist_prev\",\n",
    "                          \"social_democ_prev\", \"populist_prev\"]"
   ]
  },
  {
   "cell_type": "code",
   "execution_count": 121,
   "metadata": {},
   "outputs": [],
   "source": [
    "municipality = municipality.merge(party_alignment, on = \"prev_winner\", how = \"left\")\n",
    "municipality.to_csv(\"clean_data/turkey_municipality.csv\", index = False)"
   ]
  },
  {
   "cell_type": "markdown",
   "metadata": {},
   "source": [
    "# Parlimentary"
   ]
  },
  {
   "cell_type": "code",
   "execution_count": 90,
   "metadata": {},
   "outputs": [],
   "source": [
    "parlimentary.drop(columns = [\"num_milletvekili\", \"toplam_gecerli_oy_sayisi\", \"milletvekili_sayisi\", \"bgmztotal_votes\"], inplace = True)\n",
    "parlimentary.rename(columns = {\"registered_voter\": \"registered_voters\",\n",
    "                             'valid_votes': \"valid_votes\"}, inplace = True)\n",
    "cols = [i for i in parlimentary.columns if \"percent_votes\" not in i]\n",
    "parlimentary = parlimentary[cols]\n",
    "parlimentary.columns = [i.replace(\"total_votes\", \"\") for i in parlimentary.columns]\n",
    "parlimentary[\"city\"] = [\"turkiye\"]*len(parlimentary)"
   ]
  },
  {
   "cell_type": "code",
   "execution_count": 91,
   "metadata": {},
   "outputs": [],
   "source": [
    "years = list(parlimentary.year.unique())\n",
    "years = sorted(years, reverse = True)\n",
    "parlimentary[\"prev_year\"] = parlimentary.year.apply(lambda row: None if row == \"1950\" else years[years.index(row) + 1])"
   ]
  },
  {
   "cell_type": "code",
   "execution_count": 92,
   "metadata": {},
   "outputs": [],
   "source": [
    "def determine_winner_p(row):\n",
    "    row = row.drop([\"city\", \"year\", \"registered_voters\", \n",
    "                       \"turnout\", \"valid_vote\", \n",
    "                       \"percent_turnout\"])\n",
    "    row = row.dropna(axis=0, how='any')\n",
    "    row = row.astype(int)\n",
    "    winner = row.idxmax()\n",
    "    return winner"
   ]
  },
  {
   "cell_type": "code",
   "execution_count": 93,
   "metadata": {},
   "outputs": [],
   "source": [
    "parlimentary[\"winner\"] = parlimentary.apply(lambda row: determine_winner_p(row), axis = 1)\n",
    "parlimentary[\"winner\"] = parlimentary[\"winner\"].str.split(\"_\", expand = True)[0]\n",
    "parlimentary.winner = parlimentary.winner.str.replace(\"ak\", \"akp\")"
   ]
  },
  {
   "cell_type": "code",
   "execution_count": 94,
   "metadata": {},
   "outputs": [],
   "source": [
    "parlimentary_results = parlimentary[[\"year\", \"winner\"]].drop_duplicates()\n",
    "parlimentary_results.rename(columns = {\"winner\": \"prev_winner\", \"year\": \"prev_year\"}, inplace = True)\n",
    "parlimentary = parlimentary.merge(parlimentary_results, on = [\"prev_year\"], how = \"left\")\n",
    "parlimentary.loc[18, \"prev_winner\"] = \"chp\""
   ]
  },
  {
   "cell_type": "code",
   "execution_count": 95,
   "metadata": {},
   "outputs": [],
   "source": [
    "party_alignment.rename(columns = {\"party\": \"winner\"}, inplace = True)\n",
    "parlimentary = parlimentary.merge(party_alignment, on = \"winner\", how = \"left\")"
   ]
  },
  {
   "cell_type": "code",
   "execution_count": 96,
   "metadata": {},
   "outputs": [],
   "source": [
    "party_alignment.columns = [\"prev_winner\", \"nat_prev\", \"right_wing_prev\", \"left_wing_prev\",\n",
    "                           \"political_islam_prev\", \"kurdish_prev\", \"liberal_prev\", \"socialist_prev\",\n",
    "                          \"social_democ_prev\", \"populist_prev\"]\n",
    "parlimentary = parlimentary.merge(party_alignment, on = \"prev_winner\", how = \"left\")"
   ]
  },
  {
   "cell_type": "code",
   "execution_count": 97,
   "metadata": {},
   "outputs": [],
   "source": [
    "parlimentary[\"swing\"] = ((parlimentary[\"winner\"] != parlimentary[\"prev_winner\"]) & (parlimentary[\"prev_winner\"].notna())).astype(int)"
   ]
  },
  {
   "cell_type": "code",
   "execution_count": 98,
   "metadata": {},
   "outputs": [],
   "source": [
    "parlimentary.winner = parlimentary.winner.str.lower()\n",
    "parlimentary.prev_winner = parlimentary.prev_winner.str.lower()\n",
    "parlimentary.winner = parlimentary.winner.str.replace(\"ak parti\", \"akp\")\n",
    "parlimentary.prev_winner = parlimentary.prev_winner.str.replace(\"ak parti\", \"akp\")"
   ]
  },
  {
   "cell_type": "markdown",
   "metadata": {},
   "source": [
    "# Concat Municipality and Parlimentary"
   ]
  },
  {
   "cell_type": "code",
   "execution_count": 99,
   "metadata": {},
   "outputs": [],
   "source": [
    "parlimentary[\"elec_type\"] = [\"parlimentary\"] * len(parlimentary)\n",
    "municipality[\"elec_type\"] = [\"municipality\"] * len(municipality)"
   ]
  },
  {
   "cell_type": "code",
   "execution_count": 100,
   "metadata": {},
   "outputs": [],
   "source": [
    "elections_all = pd.concat([parlimentary, municipality], ignore_index = True)"
   ]
  },
  {
   "cell_type": "code",
   "execution_count": 103,
   "metadata": {},
   "outputs": [
    {
     "data": {
      "text/plain": [
       "['year',\n",
       " 'registered_voters',\n",
       " 'turnout',\n",
       " 'percent_turnout',\n",
       " 'valid_vote',\n",
       " 'ak_parti',\n",
       " 'anadolu_partisi',\n",
       " 'anap',\n",
       " 'atp',\n",
       " 'bbp',\n",
       " 'bp',\n",
       " 'btp',\n",
       " 'chp',\n",
       " 'dbp',\n",
       " 'dehap',\n",
       " 'depar',\n",
       " 'dp',\n",
       " 'dsp',\n",
       " 'dtp',\n",
       " 'dyp',\n",
       " 'emep',\n",
       " 'fp',\n",
       " 'genc_parti',\n",
       " 'hadep',\n",
       " 'hakpar',\n",
       " 'hap',\n",
       " 'has_parti',\n",
       " 'hdp',\n",
       " 'hepar',\n",
       " 'hkp',\n",
       " 'hp',\n",
       " 'huda_par',\n",
       " 'hyp',\n",
       " 'idp',\n",
       " 'ip',\n",
       " 'iyi_parti',\n",
       " 'kp',\n",
       " 'ldp',\n",
       " 'mcp',\n",
       " 'mdp',\n",
       " 'mep',\n",
       " 'mhp',\n",
       " 'millet_partisi',\n",
       " 'mmp',\n",
       " 'odp',\n",
       " 'rp',\n",
       " 'saadet_partisi',\n",
       " 'shp',\n",
       " 'sip',\n",
       " 'sp',\n",
       " 'tkp',\n",
       " 'turk_parti',\n",
       " 'vatan_partisi',\n",
       " 'ydh',\n",
       " 'ydp',\n",
       " 'yeni_parti',\n",
       " 'ytp',\n",
       " 'yurtp',\n",
       " 'city',\n",
       " 'ap',\n",
       " 'birlik_partisi',\n",
       " 'cgp',\n",
       " 'ckmp',\n",
       " 'cmp',\n",
       " 'demokratik_parti',\n",
       " 'gp',\n",
       " 'hurriyet_partisi',\n",
       " 'msp',\n",
       " 'tbp',\n",
       " 'tip',\n",
       " 'vp',\n",
       " 'ytp_',\n",
       " 'prev_year',\n",
       " 'winner',\n",
       " 'prev_winner',\n",
       " 'nationalist',\n",
       " 'right_wing',\n",
       " 'left_wing',\n",
       " 'political_islam',\n",
       " 'kurdish',\n",
       " 'liberal',\n",
       " 'socialist',\n",
       " 'soc_democ',\n",
       " 'populist',\n",
       " 'nat_prev',\n",
       " 'right_wing_prev',\n",
       " 'left_wing_prev',\n",
       " 'political_islam_prev',\n",
       " 'kurdish_prev',\n",
       " 'liberal_prev',\n",
       " 'socialist_prev',\n",
       " 'social_democ_prev',\n",
       " 'populist_prev',\n",
       " 'swing',\n",
       " 'elec_type',\n",
       " 'saadet partisi',\n",
       " 'vatan partisi',\n",
       " 'ak parti',\n",
       " 'iyi parti',\n",
       " 'bgmz',\n",
       " 'bdp',\n",
       " 'millet partisi',\n",
       " 'sbp',\n",
       " 'bagimsizlar',\n",
       " 'baskanlik sayisi',\n",
       " 'genc parti',\n",
       " 'huda par',\n",
       " 'a.p.',\n",
       " 'turk parti',\n",
       " 'myp',\n",
       " 'BAĞIMSIZLAR_vote',\n",
       " 'bagimsizlar_percent',\n",
       " 'ANAP_vote',\n",
       " 'anap_percent',\n",
       " 'DSP_vote',\n",
       " 'dsp_percent',\n",
       " 'DYP_vote',\n",
       " 'dyp_percent',\n",
       " 'IDP_vote',\n",
       " 'idp_percent',\n",
       " 'MÇP_vote',\n",
       " 'mcp_percent',\n",
       " 'RP_vote',\n",
       " 'rp_percent',\n",
       " 'SHP_vote',\n",
       " 'shp_percent']"
      ]
     },
     "execution_count": 103,
     "metadata": {},
     "output_type": "execute_result"
    }
   ],
   "source": [
    "list(elections_all.columns)"
   ]
  },
  {
   "cell_type": "code",
   "execution_count": 104,
   "metadata": {},
   "outputs": [],
   "source": [
    "def determine_winner_voteshare(row):\n",
    "    row = row.drop([\"city\", \"year\", \"registered_voters\", \n",
    "                       \"turnout\", \"valid_vote\", \n",
    "                       \"percent_turnout\", 'ytp_','prev_year',\n",
    "                    'winner', 'prev_winner','nationalist', 'right_wing',\n",
    "                    'left_wing', 'political_islam','kurdish','liberal',\n",
    "                    'socialist','soc_democ','populist','nat_prev','right_wing_prev',\n",
    "                    'left_wing_prev','political_islam_prev','kurdish_prev',\n",
    "                    'liberal_prev', 'socialist_prev','social_democ_prev',\n",
    "                    'populist_prev','swing','elec_type'])\n",
    "    row = row.dropna(axis=0, how='any')\n",
    "    row = row.astype(int)\n",
    "    vote_share = max(row)\n",
    "    return vote_share"
   ]
  },
  {
   "cell_type": "code",
   "execution_count": 62,
   "metadata": {},
   "outputs": [],
   "source": [
    "elections_all.to_csv(\"clean_data/elections_all.csv\", index = False)"
   ]
  },
  {
   "cell_type": "code",
   "execution_count": 76,
   "metadata": {},
   "outputs": [],
   "source": [
    "elections_all = pd.read_csv(\"clean_data/elections_all.csv\")"
   ]
  },
  {
   "cell_type": "code",
   "execution_count": 105,
   "metadata": {},
   "outputs": [],
   "source": [
    "elections_all[\"incumbent_vote_share\"] = elections_all.apply(lambda row:determine_winner_voteshare(row), axis = 1)"
   ]
  },
  {
   "cell_type": "code",
   "execution_count": 107,
   "metadata": {},
   "outputs": [],
   "source": [
    "elections_all[\"incumbent_vote_share\"] = elections_all[\"incumbent_vote_share\"] / elections_all[\"valid_vote\"]"
   ]
  },
  {
   "cell_type": "code",
   "execution_count": 109,
   "metadata": {},
   "outputs": [],
   "source": [
    "elections_all[\"incumbent_vote_share\"] = elections_all[\"incumbent_vote_share\"]*100"
   ]
  },
  {
   "cell_type": "code",
   "execution_count": 110,
   "metadata": {},
   "outputs": [
    {
     "data": {
      "text/html": [
       "<div>\n",
       "<style scoped>\n",
       "    .dataframe tbody tr th:only-of-type {\n",
       "        vertical-align: middle;\n",
       "    }\n",
       "\n",
       "    .dataframe tbody tr th {\n",
       "        vertical-align: top;\n",
       "    }\n",
       "\n",
       "    .dataframe thead th {\n",
       "        text-align: right;\n",
       "    }\n",
       "</style>\n",
       "<table border=\"1\" class=\"dataframe\">\n",
       "  <thead>\n",
       "    <tr style=\"text-align: right;\">\n",
       "      <th></th>\n",
       "      <th>year</th>\n",
       "      <th>registered_voters</th>\n",
       "      <th>turnout</th>\n",
       "      <th>percent_turnout</th>\n",
       "      <th>valid_vote</th>\n",
       "      <th>ak_parti</th>\n",
       "      <th>anadolu_partisi</th>\n",
       "      <th>anap</th>\n",
       "      <th>atp</th>\n",
       "      <th>bbp</th>\n",
       "      <th>...</th>\n",
       "      <th>dyp_percent</th>\n",
       "      <th>IDP_vote</th>\n",
       "      <th>idp_percent</th>\n",
       "      <th>MÇP_vote</th>\n",
       "      <th>mcp_percent</th>\n",
       "      <th>RP_vote</th>\n",
       "      <th>rp_percent</th>\n",
       "      <th>SHP_vote</th>\n",
       "      <th>shp_percent</th>\n",
       "      <th>incumbent_vote_share</th>\n",
       "    </tr>\n",
       "  </thead>\n",
       "  <tbody>\n",
       "    <tr>\n",
       "      <th>0</th>\n",
       "      <td>2018</td>\n",
       "      <td>59367469.0</td>\n",
       "      <td>51189444.0</td>\n",
       "      <td>86.200000</td>\n",
       "      <td>48631366.0</td>\n",
       "      <td>21338693.0</td>\n",
       "      <td>NaN</td>\n",
       "      <td>NaN</td>\n",
       "      <td>NaN</td>\n",
       "      <td>NaN</td>\n",
       "      <td>...</td>\n",
       "      <td>NaN</td>\n",
       "      <td>NaN</td>\n",
       "      <td>NaN</td>\n",
       "      <td>NaN</td>\n",
       "      <td>NaN</td>\n",
       "      <td>NaN</td>\n",
       "      <td>NaN</td>\n",
       "      <td>NaN</td>\n",
       "      <td>NaN</td>\n",
       "      <td>43.878457</td>\n",
       "    </tr>\n",
       "    <tr>\n",
       "      <th>1</th>\n",
       "      <td>2015_2</td>\n",
       "      <td>56608817.0</td>\n",
       "      <td>47507467.0</td>\n",
       "      <td>83.900000</td>\n",
       "      <td>45121773.0</td>\n",
       "      <td>18867411.0</td>\n",
       "      <td>27688.0</td>\n",
       "      <td>NaN</td>\n",
       "      <td>NaN</td>\n",
       "      <td>NaN</td>\n",
       "      <td>...</td>\n",
       "      <td>NaN</td>\n",
       "      <td>NaN</td>\n",
       "      <td>NaN</td>\n",
       "      <td>NaN</td>\n",
       "      <td>NaN</td>\n",
       "      <td>NaN</td>\n",
       "      <td>NaN</td>\n",
       "      <td>NaN</td>\n",
       "      <td>NaN</td>\n",
       "      <td>41.814427</td>\n",
       "    </tr>\n",
       "    <tr>\n",
       "      <th>2</th>\n",
       "      <td>2015_1</td>\n",
       "      <td>56949009.0</td>\n",
       "      <td>48537695.0</td>\n",
       "      <td>85.200000</td>\n",
       "      <td>46555267.0</td>\n",
       "      <td>23681926.0</td>\n",
       "      <td>NaN</td>\n",
       "      <td>NaN</td>\n",
       "      <td>NaN</td>\n",
       "      <td>253204.0</td>\n",
       "      <td>...</td>\n",
       "      <td>NaN</td>\n",
       "      <td>NaN</td>\n",
       "      <td>NaN</td>\n",
       "      <td>NaN</td>\n",
       "      <td>NaN</td>\n",
       "      <td>NaN</td>\n",
       "      <td>NaN</td>\n",
       "      <td>NaN</td>\n",
       "      <td>NaN</td>\n",
       "      <td>50.868414</td>\n",
       "    </tr>\n",
       "    <tr>\n",
       "      <th>3</th>\n",
       "      <td>2011</td>\n",
       "      <td>52806322.0</td>\n",
       "      <td>43914948.0</td>\n",
       "      <td>83.200000</td>\n",
       "      <td>42813896.0</td>\n",
       "      <td>21399082.0</td>\n",
       "      <td>NaN</td>\n",
       "      <td>NaN</td>\n",
       "      <td>NaN</td>\n",
       "      <td>323251.0</td>\n",
       "      <td>...</td>\n",
       "      <td>NaN</td>\n",
       "      <td>NaN</td>\n",
       "      <td>NaN</td>\n",
       "      <td>NaN</td>\n",
       "      <td>NaN</td>\n",
       "      <td>NaN</td>\n",
       "      <td>NaN</td>\n",
       "      <td>NaN</td>\n",
       "      <td>NaN</td>\n",
       "      <td>49.981627</td>\n",
       "    </tr>\n",
       "    <tr>\n",
       "      <th>4</th>\n",
       "      <td>2007</td>\n",
       "      <td>42799303.0</td>\n",
       "      <td>36056293.0</td>\n",
       "      <td>84.200000</td>\n",
       "      <td>34822907.0</td>\n",
       "      <td>16327291.0</td>\n",
       "      <td>NaN</td>\n",
       "      <td>NaN</td>\n",
       "      <td>100982.0</td>\n",
       "      <td>NaN</td>\n",
       "      <td>...</td>\n",
       "      <td>NaN</td>\n",
       "      <td>NaN</td>\n",
       "      <td>NaN</td>\n",
       "      <td>NaN</td>\n",
       "      <td>NaN</td>\n",
       "      <td>NaN</td>\n",
       "      <td>NaN</td>\n",
       "      <td>NaN</td>\n",
       "      <td>NaN</td>\n",
       "      <td>46.886640</td>\n",
       "    </tr>\n",
       "    <tr>\n",
       "      <th>...</th>\n",
       "      <td>...</td>\n",
       "      <td>...</td>\n",
       "      <td>...</td>\n",
       "      <td>...</td>\n",
       "      <td>...</td>\n",
       "      <td>...</td>\n",
       "      <td>...</td>\n",
       "      <td>...</td>\n",
       "      <td>...</td>\n",
       "      <td>...</td>\n",
       "      <td>...</td>\n",
       "      <td>...</td>\n",
       "      <td>...</td>\n",
       "      <td>...</td>\n",
       "      <td>...</td>\n",
       "      <td>...</td>\n",
       "      <td>...</td>\n",
       "      <td>...</td>\n",
       "      <td>...</td>\n",
       "      <td>...</td>\n",
       "      <td>...</td>\n",
       "    </tr>\n",
       "    <tr>\n",
       "      <th>144</th>\n",
       "      <td>1989</td>\n",
       "      <td>238879.0</td>\n",
       "      <td>176703.0</td>\n",
       "      <td>0.739718</td>\n",
       "      <td>167086.0</td>\n",
       "      <td>NaN</td>\n",
       "      <td>NaN</td>\n",
       "      <td>NaN</td>\n",
       "      <td>NaN</td>\n",
       "      <td>NaN</td>\n",
       "      <td>...</td>\n",
       "      <td>31.3</td>\n",
       "      <td>1098.0</td>\n",
       "      <td>0.6</td>\n",
       "      <td>3743.0</td>\n",
       "      <td>2.2</td>\n",
       "      <td>11815.0</td>\n",
       "      <td>7.0</td>\n",
       "      <td>69323.0</td>\n",
       "      <td>41.4</td>\n",
       "      <td>41.489413</td>\n",
       "    </tr>\n",
       "    <tr>\n",
       "      <th>145</th>\n",
       "      <td>1989</td>\n",
       "      <td>3520723.0</td>\n",
       "      <td>2393003.0</td>\n",
       "      <td>0.679691</td>\n",
       "      <td>2277364.0</td>\n",
       "      <td>NaN</td>\n",
       "      <td>NaN</td>\n",
       "      <td>NaN</td>\n",
       "      <td>NaN</td>\n",
       "      <td>NaN</td>\n",
       "      <td>...</td>\n",
       "      <td>13.8</td>\n",
       "      <td>7241.0</td>\n",
       "      <td>0.3</td>\n",
       "      <td>22278.0</td>\n",
       "      <td>0.9</td>\n",
       "      <td>238745.0</td>\n",
       "      <td>10.4</td>\n",
       "      <td>818756.0</td>\n",
       "      <td>35.9</td>\n",
       "      <td>35.951916</td>\n",
       "    </tr>\n",
       "    <tr>\n",
       "      <th>146</th>\n",
       "      <td>1989</td>\n",
       "      <td>981771.0</td>\n",
       "      <td>727077.0</td>\n",
       "      <td>0.740577</td>\n",
       "      <td>698389.0</td>\n",
       "      <td>NaN</td>\n",
       "      <td>NaN</td>\n",
       "      <td>NaN</td>\n",
       "      <td>NaN</td>\n",
       "      <td>NaN</td>\n",
       "      <td>...</td>\n",
       "      <td>13.9</td>\n",
       "      <td>2227.0</td>\n",
       "      <td>0.3</td>\n",
       "      <td>5326.0</td>\n",
       "      <td>0.7</td>\n",
       "      <td>18815.0</td>\n",
       "      <td>2.6</td>\n",
       "      <td>365980.0</td>\n",
       "      <td>52.4</td>\n",
       "      <td>52.403460</td>\n",
       "    </tr>\n",
       "    <tr>\n",
       "      <th>147</th>\n",
       "      <td>1989</td>\n",
       "      <td>202819.0</td>\n",
       "      <td>147467.0</td>\n",
       "      <td>0.727087</td>\n",
       "      <td>139952.0</td>\n",
       "      <td>NaN</td>\n",
       "      <td>NaN</td>\n",
       "      <td>NaN</td>\n",
       "      <td>NaN</td>\n",
       "      <td>NaN</td>\n",
       "      <td>...</td>\n",
       "      <td>23.0</td>\n",
       "      <td>904.0</td>\n",
       "      <td>0.6</td>\n",
       "      <td>9118.0</td>\n",
       "      <td>6.5</td>\n",
       "      <td>15216.0</td>\n",
       "      <td>10.8</td>\n",
       "      <td>38836.0</td>\n",
       "      <td>27.7</td>\n",
       "      <td>27.749514</td>\n",
       "    </tr>\n",
       "    <tr>\n",
       "      <th>148</th>\n",
       "      <td>1989</td>\n",
       "      <td>251975.0</td>\n",
       "      <td>192424.0</td>\n",
       "      <td>0.763663</td>\n",
       "      <td>183911.0</td>\n",
       "      <td>NaN</td>\n",
       "      <td>NaN</td>\n",
       "      <td>NaN</td>\n",
       "      <td>NaN</td>\n",
       "      <td>NaN</td>\n",
       "      <td>...</td>\n",
       "      <td>24.2</td>\n",
       "      <td>1022.0</td>\n",
       "      <td>0.5</td>\n",
       "      <td>8033.0</td>\n",
       "      <td>4.3</td>\n",
       "      <td>76621.0</td>\n",
       "      <td>41.6</td>\n",
       "      <td>15294.0</td>\n",
       "      <td>8.3</td>\n",
       "      <td>41.662000</td>\n",
       "    </tr>\n",
       "  </tbody>\n",
       "</table>\n",
       "<p>149 rows × 127 columns</p>\n",
       "</div>"
      ],
      "text/plain": [
       "       year  registered_voters     turnout  percent_turnout  valid_vote  \\\n",
       "0      2018         59367469.0  51189444.0        86.200000  48631366.0   \n",
       "1    2015_2         56608817.0  47507467.0        83.900000  45121773.0   \n",
       "2    2015_1         56949009.0  48537695.0        85.200000  46555267.0   \n",
       "3      2011         52806322.0  43914948.0        83.200000  42813896.0   \n",
       "4      2007         42799303.0  36056293.0        84.200000  34822907.0   \n",
       "..      ...                ...         ...              ...         ...   \n",
       "144    1989           238879.0    176703.0         0.739718    167086.0   \n",
       "145    1989          3520723.0   2393003.0         0.679691   2277364.0   \n",
       "146    1989           981771.0    727077.0         0.740577    698389.0   \n",
       "147    1989           202819.0    147467.0         0.727087    139952.0   \n",
       "148    1989           251975.0    192424.0         0.763663    183911.0   \n",
       "\n",
       "       ak_parti  anadolu_partisi  anap       atp       bbp  ...  dyp_percent  \\\n",
       "0    21338693.0              NaN   NaN       NaN       NaN  ...          NaN   \n",
       "1    18867411.0          27688.0   NaN       NaN       NaN  ...          NaN   \n",
       "2    23681926.0              NaN   NaN       NaN  253204.0  ...          NaN   \n",
       "3    21399082.0              NaN   NaN       NaN  323251.0  ...          NaN   \n",
       "4    16327291.0              NaN   NaN  100982.0       NaN  ...          NaN   \n",
       "..          ...              ...   ...       ...       ...  ...          ...   \n",
       "144         NaN              NaN   NaN       NaN       NaN  ...         31.3   \n",
       "145         NaN              NaN   NaN       NaN       NaN  ...         13.8   \n",
       "146         NaN              NaN   NaN       NaN       NaN  ...         13.9   \n",
       "147         NaN              NaN   NaN       NaN       NaN  ...         23.0   \n",
       "148         NaN              NaN   NaN       NaN       NaN  ...         24.2   \n",
       "\n",
       "     IDP_vote  idp_percent  MÇP_vote  mcp_percent   RP_vote  rp_percent  \\\n",
       "0         NaN          NaN       NaN          NaN       NaN         NaN   \n",
       "1         NaN          NaN       NaN          NaN       NaN         NaN   \n",
       "2         NaN          NaN       NaN          NaN       NaN         NaN   \n",
       "3         NaN          NaN       NaN          NaN       NaN         NaN   \n",
       "4         NaN          NaN       NaN          NaN       NaN         NaN   \n",
       "..        ...          ...       ...          ...       ...         ...   \n",
       "144    1098.0          0.6    3743.0          2.2   11815.0         7.0   \n",
       "145    7241.0          0.3   22278.0          0.9  238745.0        10.4   \n",
       "146    2227.0          0.3    5326.0          0.7   18815.0         2.6   \n",
       "147     904.0          0.6    9118.0          6.5   15216.0        10.8   \n",
       "148    1022.0          0.5    8033.0          4.3   76621.0        41.6   \n",
       "\n",
       "     SHP_vote  shp_percent  incumbent_vote_share  \n",
       "0         NaN          NaN             43.878457  \n",
       "1         NaN          NaN             41.814427  \n",
       "2         NaN          NaN             50.868414  \n",
       "3         NaN          NaN             49.981627  \n",
       "4         NaN          NaN             46.886640  \n",
       "..        ...          ...                   ...  \n",
       "144   69323.0         41.4             41.489413  \n",
       "145  818756.0         35.9             35.951916  \n",
       "146  365980.0         52.4             52.403460  \n",
       "147   38836.0         27.7             27.749514  \n",
       "148   15294.0          8.3             41.662000  \n",
       "\n",
       "[149 rows x 127 columns]"
      ]
     },
     "execution_count": 110,
     "metadata": {},
     "output_type": "execute_result"
    }
   ],
   "source": [
    "elections_all"
   ]
  },
  {
   "cell_type": "markdown",
   "metadata": {},
   "source": [
    "# Events"
   ]
  },
  {
   "cell_type": "code",
   "execution_count": null,
   "metadata": {},
   "outputs": [],
   "source": [
    "events = pd.get_dummies(events)\n",
    "events.to_csv(\"clean_data/turkish_crises.csv\", index = False)"
   ]
  },
  {
   "cell_type": "code",
   "execution_count": 113,
   "metadata": {},
   "outputs": [],
   "source": [
    "events = pd.read_csv(\"clean_data/turkish_crises.csv\")"
   ]
  },
  {
   "cell_type": "code",
   "execution_count": 114,
   "metadata": {},
   "outputs": [],
   "source": [
    "elections_all = elections_all.merge(events, on = \"year\", how = \"left\")"
   ]
  },
  {
   "cell_type": "code",
   "execution_count": 115,
   "metadata": {},
   "outputs": [],
   "source": [
    "cols = [\"crisis type_civil unrest\", \"crisis type_coup\", \"crisis type_economic\", \n",
    "       \"crisis type_refugee\", \"crisis type_regufee\", \"crisis type_soft coup\", \"crisis type_terrorism\",\n",
    "       \"crisis type_war\"]\n",
    "for col in cols:\n",
    "    elections_all[col] = elections_all[col].fillna(0)"
   ]
  },
  {
   "cell_type": "code",
   "execution_count": 116,
   "metadata": {},
   "outputs": [],
   "source": [
    "col_new = [\"civil_unrest\", \"coup\", \"economic\", \"r1\", \"r2\", \"soft_coup\", \"terrorism\", \"war\"]\n",
    "renames = dict(zip(cols, col_new))\n",
    "elections_all.rename(columns = renames, inplace = True)"
   ]
  },
  {
   "cell_type": "code",
   "execution_count": 117,
   "metadata": {},
   "outputs": [],
   "source": [
    "elections_all[\"refugee\"] = elections_all[\"r1\"] + elections_all[\"r2\"]\n",
    "elections_all.drop(columns = [\"r1\", \"r2\"], inplace = True)"
   ]
  },
  {
   "cell_type": "code",
   "execution_count": 118,
   "metadata": {},
   "outputs": [],
   "source": [
    "elections_all.to_csv(\"clean_data/elections_all.csv\", index = False)"
   ]
  },
  {
   "cell_type": "code",
   "execution_count": null,
   "metadata": {},
   "outputs": [],
   "source": []
  }
 ],
 "metadata": {
  "kernelspec": {
   "display_name": "Python 3",
   "language": "python",
   "name": "python3"
  },
  "language_info": {
   "codemirror_mode": {
    "name": "ipython",
    "version": 3
   },
   "file_extension": ".py",
   "mimetype": "text/x-python",
   "name": "python",
   "nbconvert_exporter": "python",
   "pygments_lexer": "ipython3",
   "version": "3.8.3"
  }
 },
 "nbformat": 4,
 "nbformat_minor": 4
}
