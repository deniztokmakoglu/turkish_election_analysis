{
 "cells": [
  {
   "cell_type": "code",
   "execution_count": 2,
   "metadata": {},
   "outputs": [],
   "source": [
    "import pandas as pd"
   ]
  },
  {
   "cell_type": "code",
   "execution_count": 193,
   "metadata": {},
   "outputs": [],
   "source": [
    "#municipality = pd.read_csv(\"clean_data/turkey_municipality.csv\")\n",
    "#parlimentary = pd.read_csv(\"clean_data/turkish_parlimentary.csv\")\n",
    "#parlimentary_d = pd.read_csv(\"clean_data/milletvekili_detailed.csv\")\n",
    "party_alignment = pd.read_excel(\"clean_data/party_alignment.xlsx\")\n",
    "#events_raw = pd.read_excel(\"data/turkish_catastrophic_event.xlsx\")"
   ]
  },
  {
   "cell_type": "code",
   "execution_count": 89,
   "metadata": {},
   "outputs": [],
   "source": [
    "parlimentary = parlimentary.sort_values(by = [\"year\", \"turnout\"], ascending = False)\n",
    "parlimentary = parlimentary.drop_duplicates(subset = [\"year\"], keep = \"first\")"
   ]
  },
  {
   "cell_type": "markdown",
   "metadata": {},
   "source": [
    "# Municipality"
   ]
  },
  {
   "cell_type": "code",
   "execution_count": 107,
   "metadata": {},
   "outputs": [],
   "source": [
    "municipality.drop(columns = ['prev_year',\n",
    "       'winner', \"prev_winner\", \"swing\"], inplace = True)\n",
    "municipality.city = municipality.city.str.replace(\"mersin\", \"icel\")\n",
    "municipality = municipality[(municipality.city != \"turkiye\") & (municipality.city != \"altkademebelediyesi\")]\n",
    "municipality[\"percent_turnout\"] = municipality[\"turnout\"] / municipality[\"registered_voters\"]"
   ]
  },
  {
   "cell_type": "code",
   "execution_count": 23,
   "metadata": {},
   "outputs": [],
   "source": [
    "def determine_winner(row):\n",
    "    row = row.dropna(axis=0, how='any')\n",
    "    row = row.drop([\"city\", \"year\", \"registered_voters\", \n",
    "                       \"turnout\", \"valid_vote\", \n",
    "                       \"percent_turnout\"])\n",
    "    row = row.astype(int)\n",
    "    winner = row.idxmax()\n",
    "    return winner"
   ]
  },
  {
   "cell_type": "code",
   "execution_count": 111,
   "metadata": {},
   "outputs": [],
   "source": [
    "years = list(municipality.year.unique())\n",
    "years = sorted(years, reverse = True)\n",
    "municipality[\"prev_year\"] = municipality.year.apply(lambda row: None if row == 1989 else years[years.index(row) + 1])"
   ]
  },
  {
   "cell_type": "code",
   "execution_count": 112,
   "metadata": {},
   "outputs": [],
   "source": [
    "municipality[\"winner\"] = municipality.apply(lambda row: determine_winner(row), axis = 1)\n",
    "municipality[\"winner\"] = municipality[\"winner\"].str.split(\"_\", expand = True)[0]"
   ]
  },
  {
   "cell_type": "code",
   "execution_count": 115,
   "metadata": {},
   "outputs": [],
   "source": [
    "municipality_results = municipality[[\"city\", \"year\", \"winner\"]].drop_duplicates()\n",
    "municipality_results.rename(columns = {\"winner\": \"prev_winner\", \"year\": \"prev_year\"}, inplace = True)\n",
    "municipality = municipality.merge(municipality_results, on = [\"city\", \"prev_year\"], how = \"left\")"
   ]
  },
  {
   "cell_type": "code",
   "execution_count": 116,
   "metadata": {},
   "outputs": [],
   "source": [
    "municipality[\"swing\"] = ((municipality[\"winner\"] != municipality[\"prev_winner\"]) & (municipality[\"prev_winner\"].notna())).astype(int)"
   ]
  },
  {
   "cell_type": "code",
   "execution_count": 117,
   "metadata": {},
   "outputs": [],
   "source": [
    "municipality.winner = municipality.winner.str.lower()\n",
    "municipality.prev_winner = municipality.prev_winner.str.lower()\n",
    "municipality.winner = municipality.winner.str.replace(\"ak parti\", \"akp\")\n",
    "municipality.prev_winner = municipality.prev_winner.str.replace(\"ak parti\", \"akp\")"
   ]
  },
  {
   "cell_type": "code",
   "execution_count": 118,
   "metadata": {},
   "outputs": [],
   "source": [
    "party_alignment.rename(columns = {\"party\": \"winner\"}, inplace = True)\n",
    "party_alignment.winner = party_alignment.winner.str.replace(\"ak parti\", \"akp\")\n",
    "municipality = municipality.merge(party_alignment, on = \"winner\", how = \"left\")"
   ]
  },
  {
   "cell_type": "code",
   "execution_count": 119,
   "metadata": {},
   "outputs": [],
   "source": [
    "party_alignment.columns = [\"prev_winner\", \"nat_prev\", \"right_wing_prev\", \"left_wing_prev\",\n",
    "                           \"political_islam_prev\", \"kurdish_prev\", \"liberal_prev\", \"socialist_prev\",\n",
    "                          \"social_democ_prev\", \"populist_prev\"]"
   ]
  },
  {
   "cell_type": "code",
   "execution_count": 121,
   "metadata": {},
   "outputs": [],
   "source": [
    "municipality = municipality.merge(party_alignment, on = \"prev_winner\", how = \"left\")\n",
    "municipality.to_csv(\"clean_data/turkey_municipality.csv\", index = False)"
   ]
  },
  {
   "cell_type": "markdown",
   "metadata": {},
   "source": [
    "# Parlimentary"
   ]
  },
  {
   "cell_type": "code",
   "execution_count": 90,
   "metadata": {},
   "outputs": [],
   "source": [
    "parlimentary.drop(columns = [\"num_milletvekili\", \"toplam_gecerli_oy_sayisi\", \"milletvekili_sayisi\", \"bgmztotal_votes\"], inplace = True)\n",
    "parlimentary.rename(columns = {\"registered_voter\": \"registered_voters\",\n",
    "                             'valid_votes': \"valid_votes\"}, inplace = True)\n",
    "cols = [i for i in parlimentary.columns if \"percent_votes\" not in i]\n",
    "parlimentary = parlimentary[cols]\n",
    "parlimentary.columns = [i.replace(\"total_votes\", \"\") for i in parlimentary.columns]\n",
    "parlimentary[\"city\"] = [\"turkiye\"]*len(parlimentary)"
   ]
  },
  {
   "cell_type": "code",
   "execution_count": 91,
   "metadata": {},
   "outputs": [],
   "source": [
    "years = list(parlimentary.year.unique())\n",
    "years = sorted(years, reverse = True)\n",
    "parlimentary[\"prev_year\"] = parlimentary.year.apply(lambda row: None if row == \"1950\" else years[years.index(row) + 1])"
   ]
  },
  {
   "cell_type": "code",
   "execution_count": 92,
   "metadata": {},
   "outputs": [],
   "source": [
    "def determine_winner_p(row):\n",
    "    row = row.drop([\"city\", \"year\", \"registered_voters\", \n",
    "                       \"turnout\", \"valid_vote\", \n",
    "                       \"percent_turnout\"])\n",
    "    row = row.dropna(axis=0, how='any')\n",
    "    row = row.astype(int)\n",
    "    winner = row.idxmax()\n",
    "    return winner"
   ]
  },
  {
   "cell_type": "code",
   "execution_count": 93,
   "metadata": {},
   "outputs": [],
   "source": [
    "parlimentary[\"winner\"] = parlimentary.apply(lambda row: determine_winner_p(row), axis = 1)\n",
    "parlimentary[\"winner\"] = parlimentary[\"winner\"].str.split(\"_\", expand = True)[0]\n",
    "parlimentary.winner = parlimentary.winner.str.replace(\"ak\", \"akp\")"
   ]
  },
  {
   "cell_type": "code",
   "execution_count": 94,
   "metadata": {},
   "outputs": [],
   "source": [
    "parlimentary_results = parlimentary[[\"year\", \"winner\"]].drop_duplicates()\n",
    "parlimentary_results.rename(columns = {\"winner\": \"prev_winner\", \"year\": \"prev_year\"}, inplace = True)\n",
    "parlimentary = parlimentary.merge(parlimentary_results, on = [\"prev_year\"], how = \"left\")\n",
    "parlimentary.loc[18, \"prev_winner\"] = \"chp\""
   ]
  },
  {
   "cell_type": "code",
   "execution_count": 95,
   "metadata": {},
   "outputs": [],
   "source": [
    "party_alignment.rename(columns = {\"party\": \"winner\"}, inplace = True)\n",
    "parlimentary = parlimentary.merge(party_alignment, on = \"winner\", how = \"left\")"
   ]
  },
  {
   "cell_type": "code",
   "execution_count": 96,
   "metadata": {},
   "outputs": [],
   "source": [
    "party_alignment.columns = [\"prev_winner\", \"nat_prev\", \"right_wing_prev\", \"left_wing_prev\",\n",
    "                           \"political_islam_prev\", \"kurdish_prev\", \"liberal_prev\", \"socialist_prev\",\n",
    "                          \"social_democ_prev\", \"populist_prev\"]\n",
    "parlimentary = parlimentary.merge(party_alignment, on = \"prev_winner\", how = \"left\")"
   ]
  },
  {
   "cell_type": "code",
   "execution_count": 97,
   "metadata": {},
   "outputs": [],
   "source": [
    "parlimentary[\"swing\"] = ((parlimentary[\"winner\"] != parlimentary[\"prev_winner\"]) & (parlimentary[\"prev_winner\"].notna())).astype(int)"
   ]
  },
  {
   "cell_type": "code",
   "execution_count": 98,
   "metadata": {},
   "outputs": [],
   "source": [
    "parlimentary.winner = parlimentary.winner.str.lower()\n",
    "parlimentary.prev_winner = parlimentary.prev_winner.str.lower()\n",
    "parlimentary.winner = parlimentary.winner.str.replace(\"ak parti\", \"akp\")\n",
    "parlimentary.prev_winner = parlimentary.prev_winner.str.replace(\"ak parti\", \"akp\")"
   ]
  },
  {
   "cell_type": "markdown",
   "metadata": {},
   "source": [
    "# Concat Municipality and Parlimentary"
   ]
  },
  {
   "cell_type": "code",
   "execution_count": 99,
   "metadata": {},
   "outputs": [],
   "source": [
    "parlimentary[\"elec_type\"] = [\"parlimentary\"] * len(parlimentary)\n",
    "municipality[\"elec_type\"] = [\"municipality\"] * len(municipality)"
   ]
  },
  {
   "cell_type": "code",
   "execution_count": 100,
   "metadata": {},
   "outputs": [],
   "source": [
    "elections_all = pd.concat([parlimentary, municipality], ignore_index = True)"
   ]
  },
  {
   "cell_type": "code",
   "execution_count": 104,
   "metadata": {},
   "outputs": [],
   "source": [
    "def determine_winner_voteshare(row):\n",
    "    row = row.drop([\"city\", \"year\", \"registered_voters\", \n",
    "                       \"turnout\", \"valid_vote\", \n",
    "                       \"percent_turnout\", 'ytp_','prev_year',\n",
    "                    'winner', 'prev_winner','nationalist', 'right_wing',\n",
    "                    'left_wing', 'political_islam','kurdish','liberal',\n",
    "                    'socialist','soc_democ','populist','nat_prev','right_wing_prev',\n",
    "                    'left_wing_prev','political_islam_prev','kurdish_prev',\n",
    "                    'liberal_prev', 'socialist_prev','social_democ_prev',\n",
    "                    'populist_prev','swing','elec_type'])\n",
    "    row = row.dropna(axis=0, how='any')\n",
    "    row = row.astype(int)\n",
    "    vote_share = max(row)\n",
    "    return vote_share"
   ]
  },
  {
   "cell_type": "code",
   "execution_count": 62,
   "metadata": {},
   "outputs": [],
   "source": [
    "elections_all.to_csv(\"clean_data/elections_all.csv\", index = False)"
   ]
  },
  {
   "cell_type": "code",
   "execution_count": 76,
   "metadata": {},
   "outputs": [],
   "source": [
    "elections_all = pd.read_csv(\"clean_data/elections_all.csv\")"
   ]
  },
  {
   "cell_type": "code",
   "execution_count": 105,
   "metadata": {},
   "outputs": [],
   "source": [
    "elections_all[\"incumbent_vote_share\"] = elections_all.apply(lambda row:determine_winner_voteshare(row), axis = 1)"
   ]
  },
  {
   "cell_type": "code",
   "execution_count": 107,
   "metadata": {},
   "outputs": [],
   "source": [
    "elections_all[\"incumbent_vote_share\"] = elections_all[\"incumbent_vote_share\"] / elections_all[\"valid_vote\"]"
   ]
  },
  {
   "cell_type": "code",
   "execution_count": 109,
   "metadata": {},
   "outputs": [],
   "source": [
    "elections_all[\"incumbent_vote_share\"] = elections_all[\"incumbent_vote_share\"]*100"
   ]
  },
  {
   "cell_type": "markdown",
   "metadata": {},
   "source": [
    "# Events"
   ]
  },
  {
   "cell_type": "code",
   "execution_count": null,
   "metadata": {},
   "outputs": [],
   "source": [
    "events = pd.get_dummies(events)\n",
    "events.to_csv(\"clean_data/turkish_crises.csv\", index = False)"
   ]
  },
  {
   "cell_type": "code",
   "execution_count": 147,
   "metadata": {},
   "outputs": [],
   "source": [
    "events_raw.year = events_raw.year.astype(int)"
   ]
  },
  {
   "cell_type": "code",
   "execution_count": 148,
   "metadata": {},
   "outputs": [],
   "source": [
    "elections_all = elections_all.merge(events_raw, on = \"year\", how = \"left\")"
   ]
  },
  {
   "cell_type": "code",
   "execution_count": 113,
   "metadata": {},
   "outputs": [],
   "source": [
    "events = pd.read_csv(\"clean_data/turkish_crises.csv\")"
   ]
  },
  {
   "cell_type": "code",
   "execution_count": 140,
   "metadata": {},
   "outputs": [],
   "source": [
    "elections_all = elections_all.merge(events, on = \"year\", how = \"left\")"
   ]
  },
  {
   "cell_type": "code",
   "execution_count": 141,
   "metadata": {},
   "outputs": [],
   "source": [
    "cols = [\"crisis type_civil unrest\", \"crisis type_coup\", \"crisis type_economic\", \n",
    "       \"crisis type_refugee\", \"crisis type_regufee\", \"crisis type_soft coup\", \"crisis type_terrorism\",\n",
    "       \"crisis type_war\"]\n",
    "for col in cols:\n",
    "    elections_all[col] = elections_all[col].fillna(0)"
   ]
  },
  {
   "cell_type": "code",
   "execution_count": 142,
   "metadata": {},
   "outputs": [],
   "source": [
    "col_new = [\"civil_unrest\", \"coup\", \"economic\", \"r1\", \"r2\", \"soft_coup\", \"terrorism\", \"war\"]\n",
    "renames = dict(zip(cols, col_new))\n",
    "elections_all.rename(columns = renames, inplace = True)"
   ]
  },
  {
   "cell_type": "code",
   "execution_count": 143,
   "metadata": {},
   "outputs": [],
   "source": [
    "elections_all[\"refugee\"] = elections_all[\"r1\"] + elections_all[\"r2\"]\n",
    "elections_all.drop(columns = [\"r1\", \"r2\"], inplace = True)"
   ]
  },
  {
   "cell_type": "code",
   "execution_count": 149,
   "metadata": {},
   "outputs": [],
   "source": [
    "elections_all.to_csv(\"clean_data/elections_all.csv\", index = False)"
   ]
  },
  {
   "cell_type": "markdown",
   "metadata": {},
   "source": [
    "# City Parlimentary Manipulate"
   ]
  },
  {
   "cell_type": "code",
   "execution_count": 279,
   "metadata": {},
   "outputs": [],
   "source": [
    "parlimentary_c = pd.read_csv(\"clean_data/parlimentary_cities.csv\")"
   ]
  },
  {
   "cell_type": "code",
   "execution_count": 280,
   "metadata": {},
   "outputs": [],
   "source": [
    "parlimentary_c = parlimentary_c[parlimentary_c.registered_voters.notna()]"
   ]
  },
  {
   "cell_type": "code",
   "execution_count": 281,
   "metadata": {},
   "outputs": [],
   "source": [
    "def determine_winner(row):\n",
    "    row = row.drop([\"city\", \"year\", \"registered_voters\", \n",
    "                       \"turnout\", \"valid_vote\", \n",
    "                       \"percent_turnout\"])\n",
    "    \n",
    "    row = row.dropna(axis=0, how='any') \n",
    "    row = row.astype(int)\n",
    "    winner = row.idxmax()\n",
    "    return winner"
   ]
  },
  {
   "cell_type": "code",
   "execution_count": 282,
   "metadata": {
    "scrolled": true
   },
   "outputs": [],
   "source": [
    "parlimentary_c[\"winner\"] = parlimentary_c.apply(lambda row: determine_winner(row), axis = 1)\n",
    "parlimentary_c.winner = parlimentary_c.winner.str.replace(\"ak parti\", \"akp\")"
   ]
  },
  {
   "cell_type": "code",
   "execution_count": 283,
   "metadata": {},
   "outputs": [],
   "source": [
    "parlimentary_c.year = parlimentary_c.year.str.replace('7 Haziran 2015', \"2015_2\")\n",
    "parlimentary_c.year = parlimentary_c.year.str.replace('1 Kasım 2015', \"2015_1\")\n",
    "years = list(parlimentary_c.year.unique())\n",
    "years = sorted(years, reverse = True)\n",
    "parlimentary_c[\"prev_year\"] = parlimentary_c.year.apply(lambda row: None if row == \"1950\" else years[years.index(row) + 1])"
   ]
  },
  {
   "cell_type": "code",
   "execution_count": 284,
   "metadata": {},
   "outputs": [],
   "source": [
    "parlimentary_c_results = parlimentary_c[[\"year\", \"city\", \"winner\"]].drop_duplicates()\n",
    "parlimentary_c_results.rename(columns = {\"winner\": \"prev_winner\", \"year\": \"prev_year\"}, inplace = True)\n",
    "parlimentary_c = parlimentary_c.merge(parlimentary_c_results, on = [\"prev_year\", \"city\"], how = \"left\")"
   ]
  },
  {
   "cell_type": "code",
   "execution_count": 285,
   "metadata": {},
   "outputs": [],
   "source": [
    "parlimentary_c[\"swing\"] = ((parlimentary_c[\"winner\"] != parlimentary_c[\"prev_winner\"]) & (parlimentary_c[\"prev_winner\"].notna())).astype(int)"
   ]
  },
  {
   "cell_type": "code",
   "execution_count": 286,
   "metadata": {},
   "outputs": [],
   "source": [
    "parlimentary_c.winner = parlimentary_c.winner.str.lower()\n",
    "parlimentary_c.prev_winner = parlimentary_c.prev_winner.str.lower()\n",
    "parlimentary_c.winner = parlimentary_c.winner.str.replace(\"ak parti\", \"akp\")\n",
    "parlimentary_c.prev_winner = parlimentary_c.prev_winner.str.replace(\"ak parti\", \"akp\")"
   ]
  },
  {
   "cell_type": "code",
   "execution_count": null,
   "metadata": {},
   "outputs": [],
   "source": [
    "party_alignment.rename(columns = {\"party\": \"winner\"}, inplace = True)\n",
    "party_alignment.winner = party_alignment.winner.str.replace(\"ak parti\", \"akp\")\n",
    "parlimentary_c = parlimentary_c.merge(party_alignment, on = \"winner\", how = \"left\")"
   ]
  },
  {
   "cell_type": "code",
   "execution_count": 203,
   "metadata": {},
   "outputs": [],
   "source": [
    "party_alignment.columns = [\"prev_winner\", \"nat_prev\", \"right_wing_prev\", \"left_wing_prev\",\n",
    "                           \"political_islam_prev\", \"kurdish_prev\", \"liberal_prev\", \"socialist_prev\",\n",
    "                          \"social_democ_prev\", \"populist_prev\"]"
   ]
  },
  {
   "cell_type": "code",
   "execution_count": 289,
   "metadata": {},
   "outputs": [],
   "source": [
    "#parlimentary_c = parlimentary_c.merge(party_alignment, on = \"prev_winner\", how = \"left\")\n",
    "#parlimentary_c.to_csv(\"clean_data/turkey_parlimentary_selectedcities.csv\", index = False)\n",
    "parlimentary_c = pd.read_csv(\"clean_data/turkey_parlimentary_selectedcities.csv\")"
   ]
  },
  {
   "cell_type": "code",
   "execution_count": 290,
   "metadata": {},
   "outputs": [],
   "source": [
    "parlimentary_c.drop(columns = [parlimentary_c.columns[-36], parlimentary_c.columns[-37]], inplace = True)"
   ]
  },
  {
   "cell_type": "code",
   "execution_count": 291,
   "metadata": {},
   "outputs": [],
   "source": [
    "parlimentary_c[\"election_type\"] = [\"parlimentary\"] * len(parlimentary_c)"
   ]
  },
  {
   "cell_type": "markdown",
   "metadata": {},
   "source": [
    "# Concat Detailed Parlimentary Election Data"
   ]
  },
  {
   "cell_type": "code",
   "execution_count": 292,
   "metadata": {},
   "outputs": [],
   "source": [
    "municipality = pd.read_csv(\"clean_data/turkey_municipality.csv\")"
   ]
  },
  {
   "cell_type": "code",
   "execution_count": 293,
   "metadata": {},
   "outputs": [],
   "source": [
    "municipality[\"election_type\"] = [\"municipality\"] * len(municipality)"
   ]
  },
  {
   "cell_type": "code",
   "execution_count": 294,
   "metadata": {},
   "outputs": [],
   "source": [
    "df_final = pd.concat([municipality, parlimentary_c], ignore_index = True)"
   ]
  },
  {
   "cell_type": "code",
   "execution_count": 339,
   "metadata": {},
   "outputs": [],
   "source": [
    "#df_final.to_csv(\"clean_data/parlimentary_municipal_citylevel.csv\", index = False)\n",
    "df_final = pd.read_csv(\"clean_data/parlimentary_municipal_citylevel.csv\")"
   ]
  },
  {
   "cell_type": "code",
   "execution_count": 340,
   "metadata": {},
   "outputs": [
    {
     "data": {
      "text/plain": [
       "array(['2019', '2009', '1994', '2004', '2014', '1999', '1989', '2018',\n",
       "       '2015_1', '2015_2', '2011', '2007', '2002', '1995', '1991', '1987',\n",
       "       '1983', '1977', '1973', '1969', '1965', '1961', '1957', '1954',\n",
       "       '1950'], dtype=object)"
      ]
     },
     "execution_count": 340,
     "metadata": {},
     "output_type": "execute_result"
    }
   ],
   "source": [
    "df_final.year.unique()"
   ]
  },
  {
   "cell_type": "code",
   "execution_count": 341,
   "metadata": {},
   "outputs": [],
   "source": [
    "df_final = df_final.drop(columns = ['nationalist',\n",
    " 'right_wing',\n",
    " 'left_wing',\n",
    " 'political_islam',\n",
    " 'kurdish',\n",
    " 'liberal',\n",
    " 'socialist',\n",
    " 'soc_democ',\n",
    " 'populist',\n",
    " 'nat_prev',\n",
    " 'right_wing_prev',\n",
    " 'left_wing_prev',\n",
    " 'political_islam_prev',\n",
    " 'kurdish_prev',\n",
    " 'liberal_prev',\n",
    " 'socialist_prev',\n",
    " 'social_democ_prev',\n",
    " 'populist_prev']).drop_duplicates()"
   ]
  },
  {
   "cell_type": "code",
   "execution_count": 342,
   "metadata": {},
   "outputs": [],
   "source": [
    "events_2 = pd.read_excel(\"clean_data/events_v2.xlsx\")"
   ]
  },
  {
   "cell_type": "code",
   "execution_count": 343,
   "metadata": {},
   "outputs": [],
   "source": [
    "df_final = df_final.merge(events_2, on = [\"city\"], how = \"left\")"
   ]
  },
  {
   "cell_type": "code",
   "execution_count": 344,
   "metadata": {},
   "outputs": [
    {
     "data": {
      "text/plain": [
       "array(['adana', 'ankara', 'antalya', 'aydin', 'balikesir', 'bursa',\n",
       "       'denizli', 'diyarbakir', 'erzurum', 'eskisehir', 'gaziantep',\n",
       "       'hatay', 'icel', 'istanbul', 'izmir', 'kayseri', 'kocaeli',\n",
       "       'konya', 'malatya', 'manisa', 'kahramanmaras', 'mardin', 'mugla',\n",
       "       'ordu', 'sakarya', 'samsun', 'tekirdag', 'trabzon', 'sanliurfa',\n",
       "       'van', 'antep', 'urfa', 'maras'], dtype=object)"
      ]
     },
     "execution_count": 344,
     "metadata": {},
     "output_type": "execute_result"
    }
   ],
   "source": [
    "df_final.city.unique()"
   ]
  },
  {
   "cell_type": "code",
   "execution_count": 345,
   "metadata": {},
   "outputs": [],
   "source": [
    "dummies = pd.get_dummies(df_final[[\"event\"]])\n",
    "dummies.columns = [\"cyprus\", \"earthquake\", \"kurdish\", \"refugee\"]"
   ]
  },
  {
   "cell_type": "code",
   "execution_count": 346,
   "metadata": {},
   "outputs": [],
   "source": [
    "df_final = df_final.join(dummies)"
   ]
  },
  {
   "cell_type": "code",
   "execution_count": 347,
   "metadata": {},
   "outputs": [],
   "source": [
    "df_final.event_year = df_final.event_year.fillna(0)"
   ]
  },
  {
   "cell_type": "code",
   "execution_count": 354,
   "metadata": {},
   "outputs": [],
   "source": [
    "df_final['year_int'] = df_final['year']\n",
    "df_final['year_int'] = df_final['year_int'].str.replace('2015_1', '2015')\n",
    "df_final['year_int'] = df_final['year_int'].str.replace('2015_2', '2015')\n",
    "df_final['year_int'] = df_final['year_int'].astype(int)\n",
    "df_final['event_year'] = df_final['event_year'].astype(int) "
   ]
  },
  {
   "cell_type": "code",
   "execution_count": 355,
   "metadata": {},
   "outputs": [],
   "source": [
    "df_final.to_csv(\"clean_data/all_data_v_event2.csv\", index = False)"
   ]
  },
  {
   "cell_type": "code",
   "execution_count": 3,
   "metadata": {},
   "outputs": [],
   "source": [
    "df_final = pd.read_csv('clean_data/all_data_v_event2.csv')"
   ]
  },
  {
   "cell_type": "code",
   "execution_count": 5,
   "metadata": {},
   "outputs": [
    {
     "data": {
      "text/plain": [
       "array(['chp', 'akp', 'hdp', 'mhp', 'dtp', 'dsp', 'rp', 'dyp', 'anap',\n",
       "       'shp', 'bdp', 'bgmz', 'fp', 'hadep', 'mdp', 'ap', 'dp', 'hp',\n",
       "       'ytp ', 'cgp', 'dehap'], dtype=object)"
      ]
     },
     "execution_count": 5,
     "metadata": {},
     "output_type": "execute_result"
    }
   ],
   "source": [
    "df_final.winner.unique()"
   ]
  },
  {
   "cell_type": "code",
   "execution_count": 51,
   "metadata": {},
   "outputs": [],
   "source": [
    "df_final.shp.fillna(df_final['SHP_vote'], inplace = True)\n",
    "df_final.dyp.fillna(df_final['DYP_vote'], inplace = True)\n",
    "df_final.rp.fillna(df_final['RP_vote'], inplace = True)"
   ]
  },
  {
   "cell_type": "code",
   "execution_count": 140,
   "metadata": {},
   "outputs": [],
   "source": [
    "def incumbent_voteshare(row):\n",
    "    winner = row['winner']\n",
    "    if winner == 'akp':\n",
    "        winner = 'ak parti'\n",
    "    vote_winner = row[winner]\n",
    "    total_votes = row['valid_vote']\n",
    "    if str(total_votes) == 'nan':\n",
    "        total_votes = row['turnout']\n",
    "    return (vote_winner / total_votes) * 100\n",
    "\n",
    "def prev_winner_voteshare(row, df_final):\n",
    "    city = row['city']\n",
    "    election_type = row['election_type']\n",
    "    prev_winner = row['prev_winner']\n",
    "    election = row['prev_year']\n",
    "    if str(election) == 'nan':\n",
    "        return None\n",
    "    election = str(int(float(election)))\n",
    "    if election == '20152':\n",
    "        election = '2015_2'\n",
    "    if election == '20151':\n",
    "        election = '2015_1'\n",
    "    if str(prev_winner) == 'nan':\n",
    "        return None\n",
    "    df_temp = df_final[(df_final.year == election) & (df_final.city == city) & (df_final.election_type == election_type)]\n",
    "    if prev_winner == 'akp':\n",
    "        prev_winner = 'ak parti'\n",
    "    return df_temp['incumbent_vote_share'].unique()[0]"
   ]
  },
  {
   "cell_type": "code",
   "execution_count": 141,
   "metadata": {},
   "outputs": [],
   "source": [
    "df_final['incumbent_vote_share'] = df_final.apply(lambda row: incumbent_voteshare(row), axis = 1)\n",
    "df_final['prev_winner_voteshare'] = df_final.apply(lambda row: prev_winner_voteshare(row, df_final), axis = 1)"
   ]
  },
  {
   "cell_type": "code",
   "execution_count": 151,
   "metadata": {},
   "outputs": [],
   "source": [
    "df_final.to_csv('clean_data/all_data_v_event2.csv')"
   ]
  },
  {
   "cell_type": "code",
   "execution_count": null,
   "metadata": {},
   "outputs": [],
   "source": []
  }
 ],
 "metadata": {
  "kernelspec": {
   "display_name": "Python 3",
   "language": "python",
   "name": "python3"
  },
  "language_info": {
   "codemirror_mode": {
    "name": "ipython",
    "version": 3
   },
   "file_extension": ".py",
   "mimetype": "text/x-python",
   "name": "python",
   "nbconvert_exporter": "python",
   "pygments_lexer": "ipython3",
   "version": "3.8.3"
  }
 },
 "nbformat": 4,
 "nbformat_minor": 4
}
