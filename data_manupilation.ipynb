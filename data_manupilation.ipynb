{
 "cells": [
  {
   "cell_type": "code",
   "execution_count": 2,
   "metadata": {},
   "outputs": [],
   "source": [
    "import pandas as pd"
   ]
  },
  {
   "cell_type": "code",
   "execution_count": 30,
   "metadata": {},
   "outputs": [],
   "source": [
    "municipality = pd.read_csv(\"clean_data/turkey_municipality.csv\")\n",
    "parlimentary = pd.read_csv(\"clean_data/turkish_parlimentary.csv\")\n",
    "parlimentary_d = pd.read_csv(\"clean_data/milletvekili_detailed.csv\")\n",
    "party_alignment = pd.read_excel(\"clean_data/party_alignment.xlsx\")\n",
    "events = pd.read_excel(\"data/turkish_catastrophic_event.xlsx\")"
   ]
  },
  {
   "cell_type": "code",
   "execution_count": 31,
   "metadata": {},
   "outputs": [],
   "source": [
    "parlimentary = parlimentary.sort_values(by = [\"year\", \"turnout\"], ascending = False)\n",
    "parlimentary = parlimentary.drop_duplicates(subset = [\"year\"], keep = \"first\")"
   ]
  },
  {
   "cell_type": "markdown",
   "metadata": {},
   "source": [
    "# Municipality"
   ]
  },
  {
   "cell_type": "code",
   "execution_count": 107,
   "metadata": {},
   "outputs": [],
   "source": [
    "municipality.drop(columns = ['prev_year',\n",
    "       'winner', \"prev_winner\", \"swing\"], inplace = True)\n",
    "municipality.city = municipality.city.str.replace(\"mersin\", \"icel\")\n",
    "municipality = municipality[(municipality.city != \"turkiye\") & (municipality.city != \"altkademebelediyesi\")]\n",
    "municipality[\"percent_turnout\"] = municipality[\"turnout\"] / municipality[\"registered_voters\"]"
   ]
  },
  {
   "cell_type": "code",
   "execution_count": 110,
   "metadata": {},
   "outputs": [],
   "source": [
    "def determine_winner(row):\n",
    "    row = row.dropna(axis=0, how='any')\n",
    "    row = row.drop([\"city\", \"year\", \"registered_voters\", \n",
    "                       \"turnout\", \"valid_vote\", \n",
    "                       \"percent_turnout\"])\n",
    "    row = row.astype(int)\n",
    "    winner = row.idxmax()\n",
    "    return winner"
   ]
  },
  {
   "cell_type": "code",
   "execution_count": 111,
   "metadata": {},
   "outputs": [],
   "source": [
    "years = list(municipality.year.unique())\n",
    "years = sorted(years, reverse = True)\n",
    "municipality[\"prev_year\"] = municipality.year.apply(lambda row: None if row == 1989 else years[years.index(row) + 1])"
   ]
  },
  {
   "cell_type": "code",
   "execution_count": 112,
   "metadata": {},
   "outputs": [],
   "source": [
    "municipality[\"winner\"] = municipality.apply(lambda row: determine_winner(row), axis = 1)\n",
    "municipality[\"winner\"] = municipality[\"winner\"].str.split(\"_\", expand = True)[0]"
   ]
  },
  {
   "cell_type": "code",
   "execution_count": 115,
   "metadata": {},
   "outputs": [],
   "source": [
    "municipality_results = municipality[[\"city\", \"year\", \"winner\"]].drop_duplicates()\n",
    "municipality_results.rename(columns = {\"winner\": \"prev_winner\", \"year\": \"prev_year\"}, inplace = True)\n",
    "municipality = municipality.merge(municipality_results, on = [\"city\", \"prev_year\"], how = \"left\")"
   ]
  },
  {
   "cell_type": "code",
   "execution_count": 116,
   "metadata": {},
   "outputs": [],
   "source": [
    "municipality[\"swing\"] = ((municipality[\"winner\"] != municipality[\"prev_winner\"]) & (municipality[\"prev_winner\"].notna())).astype(int)"
   ]
  },
  {
   "cell_type": "code",
   "execution_count": 117,
   "metadata": {},
   "outputs": [],
   "source": [
    "municipality.winner = municipality.winner.str.lower()\n",
    "municipality.prev_winner = municipality.prev_winner.str.lower()\n",
    "municipality.winner = municipality.winner.str.replace(\"ak parti\", \"akp\")\n",
    "municipality.prev_winner = municipality.prev_winner.str.replace(\"ak parti\", \"akp\")"
   ]
  },
  {
   "cell_type": "code",
   "execution_count": 118,
   "metadata": {},
   "outputs": [],
   "source": [
    "party_alignment.rename(columns = {\"party\": \"winner\"}, inplace = True)\n",
    "party_alignment.winner = party_alignment.winner.str.replace(\"ak parti\", \"akp\")\n",
    "municipality = municipality.merge(party_alignment, on = \"winner\", how = \"left\")"
   ]
  },
  {
   "cell_type": "code",
   "execution_count": 119,
   "metadata": {},
   "outputs": [],
   "source": [
    "party_alignment.columns = [\"prev_winner\", \"nat_prev\", \"right_wing_prev\", \"left_wing_prev\",\n",
    "                           \"political_islam_prev\", \"kurdish_prev\", \"liberal_prev\", \"socialist_prev\",\n",
    "                          \"social_democ_prev\", \"populist_prev\"]"
   ]
  },
  {
   "cell_type": "code",
   "execution_count": 121,
   "metadata": {},
   "outputs": [],
   "source": [
    "municipality = municipality.merge(party_alignment, on = \"prev_winner\", how = \"left\")\n",
    "municipality.to_csv(\"clean_data/turkey_municipality.csv\", index = False)"
   ]
  },
  {
   "cell_type": "markdown",
   "metadata": {},
   "source": [
    "# Parlimentary"
   ]
  },
  {
   "cell_type": "code",
   "execution_count": 32,
   "metadata": {},
   "outputs": [],
   "source": [
    "parlimentary.drop(columns = [\"num_milletvekili\", \"toplam_gecerli_oy_sayisi\", \"milletvekili_sayisi\", \"bgmztotal_votes\"], inplace = True)\n",
    "parlimentary.rename(columns = {\"registered_voter\": \"registered_voters\",\n",
    "                             'valid_votes': \"valid_votes\"}, inplace = True)\n",
    "cols = [i for i in parlimentary.columns if \"percent_votes\" not in i]\n",
    "parlimentary = parlimentary[cols]\n",
    "parlimentary.columns = [i.replace(\"total_votes\", \"\") for i in parlimentary.columns]\n",
    "parlimentary[\"city\"] = [\"turkiye\"]*len(parlimentary)"
   ]
  },
  {
   "cell_type": "code",
   "execution_count": 33,
   "metadata": {},
   "outputs": [],
   "source": [
    "years = list(parlimentary.year.unique())\n",
    "years = sorted(years, reverse = True)\n",
    "parlimentary[\"prev_year\"] = parlimentary.year.apply(lambda row: None if row == \"1950\" else years[years.index(row) + 1])"
   ]
  },
  {
   "cell_type": "code",
   "execution_count": 34,
   "metadata": {},
   "outputs": [],
   "source": [
    "def determine_winner_p(row):\n",
    "    row = row.drop([\"city\", \"year\", \"registered_voters\", \n",
    "                       \"turnout\", \"valid_vote\", \n",
    "                       \"percent_turnout\"])\n",
    "    row = row.dropna(axis=0, how='any')\n",
    "    row = row.astype(int)\n",
    "    winner = row.idxmax()\n",
    "    return winner"
   ]
  },
  {
   "cell_type": "code",
   "execution_count": 35,
   "metadata": {},
   "outputs": [],
   "source": [
    "parlimentary[\"winner\"] = parlimentary.apply(lambda row: determine_winner_p(row), axis = 1)\n",
    "parlimentary[\"winner\"] = parlimentary[\"winner\"].str.split(\"_\", expand = True)[0]\n",
    "parlimentary.winner = parlimentary.winner.str.replace(\"ak\", \"akp\")"
   ]
  },
  {
   "cell_type": "code",
   "execution_count": 36,
   "metadata": {},
   "outputs": [],
   "source": [
    "parlimentary_results = parlimentary[[\"year\", \"winner\"]].drop_duplicates()\n",
    "parlimentary_results.rename(columns = {\"winner\": \"prev_winner\", \"year\": \"prev_year\"}, inplace = True)\n",
    "parlimentary = parlimentary.merge(parlimentary_results, on = [\"prev_year\"], how = \"left\")\n",
    "parlimentary.loc[18, \"prev_winner\"] = \"chp\""
   ]
  },
  {
   "cell_type": "code",
   "execution_count": 37,
   "metadata": {},
   "outputs": [],
   "source": [
    "party_alignment.rename(columns = {\"party\": \"winner\"}, inplace = True)\n",
    "parlimentary = parlimentary.merge(party_alignment, on = \"winner\", how = \"left\")"
   ]
  },
  {
   "cell_type": "code",
   "execution_count": 38,
   "metadata": {},
   "outputs": [],
   "source": [
    "party_alignment.columns = [\"prev_winner\", \"nat_prev\", \"right_wing_prev\", \"left_wing_prev\",\n",
    "                           \"political_islam_prev\", \"kurdish_prev\", \"liberal_prev\", \"socialist_prev\",\n",
    "                          \"social_democ_prev\", \"populist_prev\"]\n",
    "parlimentary = parlimentary.merge(party_alignment, on = \"prev_winner\", how = \"left\")"
   ]
  },
  {
   "cell_type": "code",
   "execution_count": 39,
   "metadata": {},
   "outputs": [],
   "source": [
    "parlimentary[\"swing\"] = ((parlimentary[\"winner\"] != parlimentary[\"prev_winner\"]) & (parlimentary[\"prev_winner\"].notna())).astype(int)"
   ]
  },
  {
   "cell_type": "code",
   "execution_count": 40,
   "metadata": {},
   "outputs": [],
   "source": [
    "parlimentary.winner = parlimentary.winner.str.lower()\n",
    "parlimentary.prev_winner = parlimentary.prev_winner.str.lower()\n",
    "parlimentary.winner = parlimentary.winner.str.replace(\"ak parti\", \"akp\")\n",
    "parlimentary.prev_winner = parlimentary.prev_winner.str.replace(\"ak parti\", \"akp\")"
   ]
  },
  {
   "cell_type": "markdown",
   "metadata": {},
   "source": [
    "# Concat Municipality and Parlimentary"
   ]
  },
  {
   "cell_type": "code",
   "execution_count": 41,
   "metadata": {},
   "outputs": [],
   "source": [
    "parlimentary[\"elec_type\"] = [\"parlimentary\"] * len(parlimentary)\n",
    "municipality[\"elec_type\"] = [\"municipality\"] * len(municipality)"
   ]
  },
  {
   "cell_type": "code",
   "execution_count": 42,
   "metadata": {},
   "outputs": [],
   "source": [
    "elections_all = pd.concat([parlimentary, municipality], ignore_index = True)"
   ]
  },
  {
   "cell_type": "code",
   "execution_count": 43,
   "metadata": {},
   "outputs": [],
   "source": [
    "elections_all.to_csv(\"clean_data/elections_all.csv\", index = False)"
   ]
  },
  {
   "cell_type": "code",
   "execution_count": 44,
   "metadata": {},
   "outputs": [],
   "source": [
    "elections_all = pd.read_csv(\"clean_data/elections_all.csv\")"
   ]
  },
  {
   "cell_type": "markdown",
   "metadata": {},
   "source": [
    "# Events"
   ]
  },
  {
   "cell_type": "code",
   "execution_count": null,
   "metadata": {},
   "outputs": [],
   "source": [
    "events = pd.get_dummies(events)\n",
    "events.to_csv(\"clean_data/turkish_crises.csv\", index = False)"
   ]
  },
  {
   "cell_type": "code",
   "execution_count": 53,
   "metadata": {},
   "outputs": [],
   "source": [
    "events = pd.read_csv(\"clean_data/turkish_crises.csv\")"
   ]
  },
  {
   "cell_type": "code",
   "execution_count": 56,
   "metadata": {},
   "outputs": [],
   "source": [
    "elections_all = elections_all.merge(events, on = \"year\", how = \"left\")"
   ]
  },
  {
   "cell_type": "code",
   "execution_count": 58,
   "metadata": {},
   "outputs": [],
   "source": [
    "elections_all.to_csv(\"clean_data/elections_all.csv\", index = False)"
   ]
  },
  {
   "cell_type": "code",
   "execution_count": 59,
   "metadata": {},
   "outputs": [
    {
     "data": {
      "text/html": [
       "<div>\n",
       "<style scoped>\n",
       "    .dataframe tbody tr th:only-of-type {\n",
       "        vertical-align: middle;\n",
       "    }\n",
       "\n",
       "    .dataframe tbody tr th {\n",
       "        vertical-align: top;\n",
       "    }\n",
       "\n",
       "    .dataframe thead th {\n",
       "        text-align: right;\n",
       "    }\n",
       "</style>\n",
       "<table border=\"1\" class=\"dataframe\">\n",
       "  <thead>\n",
       "    <tr style=\"text-align: right;\">\n",
       "      <th></th>\n",
       "      <th>year</th>\n",
       "      <th>crisis type_civil unrest</th>\n",
       "      <th>crisis type_coup</th>\n",
       "      <th>crisis type_economic</th>\n",
       "      <th>crisis type_refugee</th>\n",
       "      <th>crisis type_regufee</th>\n",
       "      <th>crisis type_soft coup</th>\n",
       "      <th>crisis type_terrorism</th>\n",
       "      <th>crisis type_war</th>\n",
       "    </tr>\n",
       "  </thead>\n",
       "  <tbody>\n",
       "    <tr>\n",
       "      <th>0</th>\n",
       "      <td>1960</td>\n",
       "      <td>0</td>\n",
       "      <td>1</td>\n",
       "      <td>0</td>\n",
       "      <td>0</td>\n",
       "      <td>0</td>\n",
       "      <td>0</td>\n",
       "      <td>0</td>\n",
       "      <td>0</td>\n",
       "    </tr>\n",
       "    <tr>\n",
       "      <th>1</th>\n",
       "      <td>1970</td>\n",
       "      <td>1</td>\n",
       "      <td>0</td>\n",
       "      <td>0</td>\n",
       "      <td>0</td>\n",
       "      <td>0</td>\n",
       "      <td>0</td>\n",
       "      <td>0</td>\n",
       "      <td>0</td>\n",
       "    </tr>\n",
       "    <tr>\n",
       "      <th>2</th>\n",
       "      <td>1970</td>\n",
       "      <td>0</td>\n",
       "      <td>0</td>\n",
       "      <td>1</td>\n",
       "      <td>0</td>\n",
       "      <td>0</td>\n",
       "      <td>0</td>\n",
       "      <td>0</td>\n",
       "      <td>0</td>\n",
       "    </tr>\n",
       "    <tr>\n",
       "      <th>3</th>\n",
       "      <td>1971</td>\n",
       "      <td>0</td>\n",
       "      <td>0</td>\n",
       "      <td>0</td>\n",
       "      <td>0</td>\n",
       "      <td>0</td>\n",
       "      <td>1</td>\n",
       "      <td>0</td>\n",
       "      <td>0</td>\n",
       "    </tr>\n",
       "    <tr>\n",
       "      <th>4</th>\n",
       "      <td>1974</td>\n",
       "      <td>0</td>\n",
       "      <td>0</td>\n",
       "      <td>0</td>\n",
       "      <td>0</td>\n",
       "      <td>0</td>\n",
       "      <td>0</td>\n",
       "      <td>0</td>\n",
       "      <td>1</td>\n",
       "    </tr>\n",
       "    <tr>\n",
       "      <th>5</th>\n",
       "      <td>1979</td>\n",
       "      <td>0</td>\n",
       "      <td>0</td>\n",
       "      <td>1</td>\n",
       "      <td>0</td>\n",
       "      <td>0</td>\n",
       "      <td>0</td>\n",
       "      <td>0</td>\n",
       "      <td>0</td>\n",
       "    </tr>\n",
       "    <tr>\n",
       "      <th>6</th>\n",
       "      <td>1980</td>\n",
       "      <td>0</td>\n",
       "      <td>1</td>\n",
       "      <td>0</td>\n",
       "      <td>0</td>\n",
       "      <td>0</td>\n",
       "      <td>0</td>\n",
       "      <td>0</td>\n",
       "      <td>0</td>\n",
       "    </tr>\n",
       "    <tr>\n",
       "      <th>7</th>\n",
       "      <td>1984</td>\n",
       "      <td>0</td>\n",
       "      <td>0</td>\n",
       "      <td>0</td>\n",
       "      <td>0</td>\n",
       "      <td>0</td>\n",
       "      <td>0</td>\n",
       "      <td>0</td>\n",
       "      <td>1</td>\n",
       "    </tr>\n",
       "    <tr>\n",
       "      <th>8</th>\n",
       "      <td>1994</td>\n",
       "      <td>0</td>\n",
       "      <td>0</td>\n",
       "      <td>1</td>\n",
       "      <td>0</td>\n",
       "      <td>0</td>\n",
       "      <td>0</td>\n",
       "      <td>0</td>\n",
       "      <td>0</td>\n",
       "    </tr>\n",
       "    <tr>\n",
       "      <th>9</th>\n",
       "      <td>1997</td>\n",
       "      <td>0</td>\n",
       "      <td>0</td>\n",
       "      <td>0</td>\n",
       "      <td>0</td>\n",
       "      <td>0</td>\n",
       "      <td>1</td>\n",
       "      <td>0</td>\n",
       "      <td>0</td>\n",
       "    </tr>\n",
       "    <tr>\n",
       "      <th>10</th>\n",
       "      <td>2001</td>\n",
       "      <td>0</td>\n",
       "      <td>0</td>\n",
       "      <td>1</td>\n",
       "      <td>0</td>\n",
       "      <td>0</td>\n",
       "      <td>0</td>\n",
       "      <td>0</td>\n",
       "      <td>0</td>\n",
       "    </tr>\n",
       "    <tr>\n",
       "      <th>11</th>\n",
       "      <td>2007</td>\n",
       "      <td>0</td>\n",
       "      <td>0</td>\n",
       "      <td>0</td>\n",
       "      <td>0</td>\n",
       "      <td>0</td>\n",
       "      <td>1</td>\n",
       "      <td>0</td>\n",
       "      <td>0</td>\n",
       "    </tr>\n",
       "    <tr>\n",
       "      <th>12</th>\n",
       "      <td>2013</td>\n",
       "      <td>1</td>\n",
       "      <td>0</td>\n",
       "      <td>0</td>\n",
       "      <td>0</td>\n",
       "      <td>0</td>\n",
       "      <td>0</td>\n",
       "      <td>0</td>\n",
       "      <td>0</td>\n",
       "    </tr>\n",
       "    <tr>\n",
       "      <th>13</th>\n",
       "      <td>2013</td>\n",
       "      <td>0</td>\n",
       "      <td>0</td>\n",
       "      <td>0</td>\n",
       "      <td>0</td>\n",
       "      <td>1</td>\n",
       "      <td>0</td>\n",
       "      <td>0</td>\n",
       "      <td>0</td>\n",
       "    </tr>\n",
       "    <tr>\n",
       "      <th>14</th>\n",
       "      <td>2015</td>\n",
       "      <td>0</td>\n",
       "      <td>0</td>\n",
       "      <td>0</td>\n",
       "      <td>0</td>\n",
       "      <td>0</td>\n",
       "      <td>0</td>\n",
       "      <td>1</td>\n",
       "      <td>0</td>\n",
       "    </tr>\n",
       "    <tr>\n",
       "      <th>15</th>\n",
       "      <td>2016</td>\n",
       "      <td>0</td>\n",
       "      <td>1</td>\n",
       "      <td>0</td>\n",
       "      <td>0</td>\n",
       "      <td>0</td>\n",
       "      <td>0</td>\n",
       "      <td>0</td>\n",
       "      <td>0</td>\n",
       "    </tr>\n",
       "    <tr>\n",
       "      <th>16</th>\n",
       "      <td>2018</td>\n",
       "      <td>0</td>\n",
       "      <td>0</td>\n",
       "      <td>0</td>\n",
       "      <td>1</td>\n",
       "      <td>0</td>\n",
       "      <td>0</td>\n",
       "      <td>0</td>\n",
       "      <td>0</td>\n",
       "    </tr>\n",
       "    <tr>\n",
       "      <th>17</th>\n",
       "      <td>2018</td>\n",
       "      <td>0</td>\n",
       "      <td>0</td>\n",
       "      <td>1</td>\n",
       "      <td>0</td>\n",
       "      <td>0</td>\n",
       "      <td>0</td>\n",
       "      <td>0</td>\n",
       "      <td>0</td>\n",
       "    </tr>\n",
       "  </tbody>\n",
       "</table>\n",
       "</div>"
      ],
      "text/plain": [
       "    year  crisis type_civil unrest  crisis type_coup  crisis type_economic  \\\n",
       "0   1960                         0                 1                     0   \n",
       "1   1970                         1                 0                     0   \n",
       "2   1970                         0                 0                     1   \n",
       "3   1971                         0                 0                     0   \n",
       "4   1974                         0                 0                     0   \n",
       "5   1979                         0                 0                     1   \n",
       "6   1980                         0                 1                     0   \n",
       "7   1984                         0                 0                     0   \n",
       "8   1994                         0                 0                     1   \n",
       "9   1997                         0                 0                     0   \n",
       "10  2001                         0                 0                     1   \n",
       "11  2007                         0                 0                     0   \n",
       "12  2013                         1                 0                     0   \n",
       "13  2013                         0                 0                     0   \n",
       "14  2015                         0                 0                     0   \n",
       "15  2016                         0                 1                     0   \n",
       "16  2018                         0                 0                     0   \n",
       "17  2018                         0                 0                     1   \n",
       "\n",
       "    crisis type_refugee  crisis type_regufee  crisis type_soft coup  \\\n",
       "0                     0                    0                      0   \n",
       "1                     0                    0                      0   \n",
       "2                     0                    0                      0   \n",
       "3                     0                    0                      1   \n",
       "4                     0                    0                      0   \n",
       "5                     0                    0                      0   \n",
       "6                     0                    0                      0   \n",
       "7                     0                    0                      0   \n",
       "8                     0                    0                      0   \n",
       "9                     0                    0                      1   \n",
       "10                    0                    0                      0   \n",
       "11                    0                    0                      1   \n",
       "12                    0                    0                      0   \n",
       "13                    0                    1                      0   \n",
       "14                    0                    0                      0   \n",
       "15                    0                    0                      0   \n",
       "16                    1                    0                      0   \n",
       "17                    0                    0                      0   \n",
       "\n",
       "    crisis type_terrorism  crisis type_war  \n",
       "0                       0                0  \n",
       "1                       0                0  \n",
       "2                       0                0  \n",
       "3                       0                0  \n",
       "4                       0                1  \n",
       "5                       0                0  \n",
       "6                       0                0  \n",
       "7                       0                1  \n",
       "8                       0                0  \n",
       "9                       0                0  \n",
       "10                      0                0  \n",
       "11                      0                0  \n",
       "12                      0                0  \n",
       "13                      0                0  \n",
       "14                      1                0  \n",
       "15                      0                0  \n",
       "16                      0                0  \n",
       "17                      0                0  "
      ]
     },
     "execution_count": 59,
     "metadata": {},
     "output_type": "execute_result"
    }
   ],
   "source": [
    "events"
   ]
  },
  {
   "cell_type": "code",
   "execution_count": null,
   "metadata": {},
   "outputs": [],
   "source": []
  }
 ],
 "metadata": {
  "kernelspec": {
   "display_name": "Python 3",
   "language": "python",
   "name": "python3"
  },
  "language_info": {
   "codemirror_mode": {
    "name": "ipython",
    "version": 3
   },
   "file_extension": ".py",
   "mimetype": "text/x-python",
   "name": "python",
   "nbconvert_exporter": "python",
   "pygments_lexer": "ipython3",
   "version": "3.8.3"
  }
 },
 "nbformat": 4,
 "nbformat_minor": 4
}
