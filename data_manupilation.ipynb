{
 "cells": [
  {
   "cell_type": "code",
   "execution_count": 86,
   "metadata": {},
   "outputs": [],
   "source": [
    "import pandas as pd"
   ]
  },
  {
   "cell_type": "code",
   "execution_count": 106,
   "metadata": {},
   "outputs": [],
   "source": [
    "municipality = pd.read_csv(\"clean_data/turkey_municipality.csv\")\n",
    "parlimentary = pd.read_csv(\"clean_data/turkish_parlimentary.csv\")\n",
    "parlimentary_d = pd.read_csv(\"clean_data/milletvekili_detailed.csv\")\n",
    "party_alignment = pd.read_excel(\"clean_data/party_alignment.xlsx\")"
   ]
  },
  {
   "cell_type": "code",
   "execution_count": 107,
   "metadata": {},
   "outputs": [],
   "source": [
    "municipality.drop(columns = ['prev_year',\n",
    "       'winner', \"prev_winner\", \"swing\"], inplace = True)"
   ]
  },
  {
   "cell_type": "code",
   "execution_count": 108,
   "metadata": {},
   "outputs": [],
   "source": [
    "municipality.city = municipality.city.str.replace(\"mersin\", \"icel\")"
   ]
  },
  {
   "cell_type": "code",
   "execution_count": 109,
   "metadata": {},
   "outputs": [],
   "source": [
    "municipality = municipality[(municipality.city != \"turkiye\") & (municipality.city != \"altkademebelediyesi\")]\n",
    "municipality[\"percent_turnout\"] = municipality[\"turnout\"] / municipality[\"registered_voters\"]"
   ]
  },
  {
   "cell_type": "code",
   "execution_count": 110,
   "metadata": {},
   "outputs": [],
   "source": [
    "def determine_winner(row):\n",
    "    row = row.dropna(axis=0, how='any')\n",
    "    row = row.drop([\"city\", \"year\", \"registered_voters\", \n",
    "                       \"turnout\", \"valid_vote\", \n",
    "                       \"percent_turnout\"])\n",
    "    row = row.astype(int)\n",
    "    winner = row.idxmax()\n",
    "    return winner"
   ]
  },
  {
   "cell_type": "code",
   "execution_count": 111,
   "metadata": {},
   "outputs": [],
   "source": [
    "years = list(municipality.year.unique())"
   ]
  },
  {
   "cell_type": "code",
   "execution_count": 112,
   "metadata": {},
   "outputs": [],
   "source": [
    "years = sorted(years, reverse = True)"
   ]
  },
  {
   "cell_type": "code",
   "execution_count": 113,
   "metadata": {},
   "outputs": [],
   "source": [
    "municipality[\"prev_year\"] = municipality.year.apply(lambda row: None if row == 1989 else years[years.index(row) + 1])"
   ]
  },
  {
   "cell_type": "code",
   "execution_count": 114,
   "metadata": {},
   "outputs": [],
   "source": [
    "municipality[\"winner\"] = municipality.apply(lambda row: determine_winner(row), axis = 1)\n",
    "municipality[\"winner\"] = municipality[\"winner\"].str.split(\"_\", expand = True)[0]"
   ]
  },
  {
   "cell_type": "code",
   "execution_count": 115,
   "metadata": {},
   "outputs": [],
   "source": [
    "municipality_results = municipality[[\"city\", \"year\", \"winner\"]].drop_duplicates()\n",
    "municipality_results.rename(columns = {\"winner\": \"prev_winner\", \"year\": \"prev_year\"}, inplace = True)\n",
    "municipality = municipality.merge(municipality_results, on = [\"city\", \"prev_year\"], how = \"left\")"
   ]
  },
  {
   "cell_type": "code",
   "execution_count": 116,
   "metadata": {},
   "outputs": [],
   "source": [
    "municipality[\"swing\"] = ((municipality[\"winner\"] != municipality[\"prev_winner\"]) & (municipality[\"prev_winner\"].notna())).astype(int)"
   ]
  },
  {
   "cell_type": "code",
   "execution_count": 117,
   "metadata": {},
   "outputs": [],
   "source": [
    "municipality.winner = municipality.winner.str.lower()\n",
    "municipality.prev_winner = municipality.prev_winner.str.lower()\n",
    "municipality.winner = municipality.winner.str.replace(\"ak parti\", \"akp\")\n",
    "municipality.prev_winner = municipality.prev_winner.str.replace(\"ak parti\", \"akp\")"
   ]
  },
  {
   "cell_type": "code",
   "execution_count": 118,
   "metadata": {},
   "outputs": [],
   "source": [
    "party_alignment.rename(columns = {\"party\": \"winner\"}, inplace = True)\n",
    "party_alignment.winner = party_alignment.winner.str.replace(\"ak parti\", \"akp\")"
   ]
  },
  {
   "cell_type": "code",
   "execution_count": 119,
   "metadata": {},
   "outputs": [],
   "source": [
    "municipality = municipality.merge(party_alignment, on = \"winner\", how = \"left\")"
   ]
  },
  {
   "cell_type": "code",
   "execution_count": 120,
   "metadata": {},
   "outputs": [],
   "source": [
    "party_alignment.columns = [\"prev_winner\", \"nat_prev\", \"right_wing_prev\", \"left_wing_prev\",\n",
    "                           \"political_islam_prev\", \"kurdish_prev\", \"liberal_prev\", \"socialist_prev\",\n",
    "                          \"social_democ_prev\", \"populist_prev\"]"
   ]
  },
  {
   "cell_type": "code",
   "execution_count": 121,
   "metadata": {},
   "outputs": [],
   "source": [
    "municipality = municipality.merge(party_alignment, on = \"prev_winner\", how = \"left\")"
   ]
  },
  {
   "cell_type": "code",
   "execution_count": 123,
   "metadata": {},
   "outputs": [],
   "source": [
    "municipality.to_csv(\"clean_data/turkey_municipality.csv\", index = False)"
   ]
  },
  {
   "cell_type": "code",
   "execution_count": null,
   "metadata": {},
   "outputs": [],
   "source": []
  }
 ],
 "metadata": {
  "kernelspec": {
   "display_name": "Python 3",
   "language": "python",
   "name": "python3"
  },
  "language_info": {
   "codemirror_mode": {
    "name": "ipython",
    "version": 3
   },
   "file_extension": ".py",
   "mimetype": "text/x-python",
   "name": "python",
   "nbconvert_exporter": "python",
   "pygments_lexer": "ipython3",
   "version": "3.8.3"
  }
 },
 "nbformat": 4,
 "nbformat_minor": 4
}
